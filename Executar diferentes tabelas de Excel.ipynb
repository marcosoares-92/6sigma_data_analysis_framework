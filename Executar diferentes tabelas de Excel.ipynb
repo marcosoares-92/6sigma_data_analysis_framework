{
    "metadata": {
        "kernelspec": {
            "name": "python3",
            "display_name": "Python 3 (ipykernel)",
            "language": "python"
        },
        "language_info": {
            "name": "python",
            "version": "3.8.10",
            "mimetype": "text/x-python",
            "codemirror_mode": {
                "name": "ipython",
                "version": 3
            },
            "pygments_lexer": "ipython3",
            "nbconvert_exporter": "python",
            "file_extension": ".py"
        }
    },
    "nbformat_minor": 2,
    "nbformat": 4,
    "cells": [
        {
            "cell_type": "markdown",
            "source": [
                "# Instruções gerais\n",
                "\n",
                "Para executar uma CÉLULA, pressione o botão \"Run\" no topo, com a CÉLULA selecionada, ou pressione:\n",
                "\n",
                "```\n",
                "Shift + Enter\n",
                "```\n",
                "\n",
                "EXECUTE APENAS UMA CÉLULA POR VEZ\n",
                "\n",
                "\\-Caso deseje apagar a saída de uma célula carregada, mas não deseje carregar uma nova saída, vá à aba superior, escolha o ícone do teclado (open the command palette/ jupyter-notebook command group) e selecione clear cell output.\n",
                "\n",
                "@author: Marco César Prado Soares, MSc. Especialista Lean Six Sigma Master Black Belt, Eng. Químico, MSc. Eng. Mecatrônica (instrumentação) [Marco.Soares@br.ey.com](mailto:&#77;&#97;&#x72;&#x63;&#111;&#46;&#x53;&#111;&#97;&#114;&#101;&#x73;&#x40;&#98;&#x72;&#x2e;&#x65;&#121;&#46;&#99;&#111;&#109;); [marcosoares.feq@gmail.com](mailto:&#x6d;&#x61;&#114;&#99;&#111;&#115;&#x6f;&#97;&#114;&#101;&#x73;&#x2e;&#x66;&#101;&#113;&#64;&#103;&#109;&#97;&#x69;&#x6c;&#46;&#x63;&#x6f;&#109;)"
            ],
            "metadata": {
                "azdata_cell_guid": "317f83a4-a430-4cdd-b825-c92bf90addae"
            },
            "attachments": {}
        },
        {
            "cell_type": "markdown",
            "source": [
                "**Executar múltiplas tabelas de um arquivo Excel**"
            ],
            "metadata": {
                "azdata_cell_guid": "9f548d1e-2fbe-4c7f-a379-2eb1fd539f9b"
            },
            "attachments": {}
        },
        {
            "cell_type": "markdown",
            "source": [
                "**Exemplo 1**\n",
                "\n",
                "Dados podem ser obtidos em: https://www.youtube.com/watch?v=nBu1Bqa1jjs&t=1780s"
            ],
            "metadata": {
                "azdata_cell_guid": "c4b67315-d96d-4a54-a59b-214600e74905"
            },
            "attachments": {}
        },
        {
            "cell_type": "code",
            "source": [
                "import pandas as pd\r\n",
                "filename = \"Data_files/016-MSPTDA-Excel.xlsx\"\r\n",
                "df = pd.read_excel(filename, sheet_name = \"Tables\", engine='openpyxl')\r\n",
                "#Note que o nome da tabela é fornecido em sheet_name\r\n",
                "\r\n",
                "#view the first five rows: \r\n",
                "df.head()"
            ],
            "metadata": {
                "azdata_cell_guid": "0e369b6a-156f-4e19-963e-5fd3834832ad"
            },
            "outputs": [],
            "execution_count": null
        },
        {
            "cell_type": "markdown",
            "source": [
                "**Exemplo 2**\n",
                "\n",
                "<span style=\"color: rgb(81, 81, 81); font-family: &quot;Segoe UI&quot;, SegoeUI, Roboto, &quot;Segoe WP&quot;, &quot;Helvetica Neue&quot;, Helvetica, Tahoma, Arial, sans-serif; font-size: 20px; background-color: rgb(255, 255, 255);\">The better way is via&nbsp;</span> [Openpyxl](https://openpyxl.readthedocs.io/en/stable/usage.html)<span style=\"color: rgb(81, 81, 81); font-family: &quot;Segoe UI&quot;, SegoeUI, Roboto, &quot;Segoe WP&quot;, &quot;Helvetica Neue&quot;, Helvetica, Tahoma, Arial, sans-serif; font-size: 20px; background-color: rgb(255, 255, 255);\">, a python module dedicated to working with Excel files. It has a method -&nbsp;</span> `._tables` <span style=\"color: rgb(81, 81, 81); font-family: &quot;Segoe UI&quot;, SegoeUI, Roboto, &quot;Segoe WP&quot;, &quot;Helvetica Neue&quot;, Helvetica, Tahoma, Arial, sans-serif; font-size: 20px; background-color: rgb(255, 255, 255);\">&nbsp;that allows access to defined tables in the spreadsheet.</span>"
            ],
            "metadata": {
                "azdata_cell_guid": "fe29b76e-cf84-4af8-879e-45e9c6d573c2"
            },
            "attachments": {}
        },
        {
            "cell_type": "code",
            "source": [
                "#import library\r\n",
                "from openpyxl import load_workbook\r\n",
                "\r\n",
                "#read file\r\n",
                "wb = load_workbook(filename)\r\n",
                "\r\n",
                "#access specific sheet\r\n",
                "ws = wb[\"Tables\"]"
            ],
            "metadata": {
                "azdata_cell_guid": "ece59e84-2c54-405f-a2e3-78be246983a2"
            },
            "outputs": [],
            "execution_count": null
        },
        {
            "cell_type": "markdown",
            "source": [
                "We can access the tables in the worksheet through the `tables` method - this returns a dictionary :\n",
                "\n",
                "```\n",
                "{key : value for key, value in ws.tables.items()}\n",
                "\n",
                "```\n",
                "\n",
                "```\n",
                "{'dSalesReps': 'A1:C26',\n",
                " 'dProduct': 'E1:I17',\n",
                " 'dCategory': 'K1:L6',\n",
                " 'dSupplier': 'N1:R5'}\n",
                "```\n",
                "\n",
                "From the result above, we can see the name of each table (_name=dSalesReps_) and the span of the data (_ref='A1:A26_). Let's get our data out :"
            ],
            "metadata": {
                "azdata_cell_guid": "15cfd62b-182b-458e-a4b3-6e0fbbe66946"
            },
            "attachments": {}
        },
        {
            "cell_type": "code",
            "source": [
                "{key : value for key, value in ws.tables.items()}\r\n",
                "mapping = {}\r\n",
                "\r\n",
                "for entry, data_boundary in ws.tables.items():\r\n",
                "    #parse the data within the ref boundary\r\n",
                "    data = ws[data_boundary]\r\n",
                "    #extract the data \r\n",
                "    #the inner list comprehension gets the values for each cell in the table\r\n",
                "    content = [[cell.value for cell in ent] \r\n",
                "               for ent in data\r\n",
                "          ]\r\n",
                "    \r\n",
                "    header = content[0]\r\n",
                "    \r\n",
                "    #the contents ... excluding the header\r\n",
                "    rest = content[1:]\r\n",
                "    \r\n",
                "    #create dataframe with the column names\r\n",
                "    #and pair table name with dataframe\r\n",
                "    df = pd.DataFrame(rest, columns = header)\r\n",
                "    mapping[entry] = df\r\n",
                "\r\n",
                "mapping"
            ],
            "metadata": {
                "azdata_cell_guid": "090fe39f-fd17-40d6-9794-b43ce0d78343"
            },
            "outputs": [],
            "execution_count": null
        },
        {
            "cell_type": "markdown",
            "source": [
                "We can safely extract our tables <span style=\"color: #af00db;\">from</span> the dictionary :"
            ],
            "metadata": {
                "azdata_cell_guid": "7a6cdb0c-19eb-4629-8059-975e1c4b2feb"
            },
            "attachments": {}
        },
        {
            "cell_type": "code",
            "source": [
                "dSalesReps, dProduct, dCategory, dSupplier = mapping.values()"
            ],
            "metadata": {
                "azdata_cell_guid": "f37379f2-940b-4117-9f7e-b0522a6ade64"
            },
            "outputs": [],
            "execution_count": null
        },
        {
            "cell_type": "markdown",
            "source": [
                "<span style=\"color: rgb(81, 81, 81); font-family: &quot;Segoe UI&quot;, SegoeUI, Roboto, &quot;Segoe WP&quot;, &quot;Helvetica Neue&quot;, Helvetica, Tahoma, Arial, sans-serif; font-size: 20px; background-color: rgb(255, 255, 255);\">Let's view some of the dataframes</span>"
            ],
            "metadata": {
                "azdata_cell_guid": "6426e59c-e222-4baa-9e6a-1bf45988631a"
            },
            "attachments": {}
        },
        {
            "cell_type": "code",
            "source": [
                "dSalesReps.head()"
            ],
            "metadata": {
                "azdata_cell_guid": "93732dca-7e5e-402e-9afe-586e60aad4a8"
            },
            "outputs": [],
            "execution_count": null
        },
        {
            "cell_type": "markdown",
            "source": [
                "<span style=\"font-family: inherit; font-style: inherit; font-variant-ligatures: inherit; font-variant-caps: inherit; font-size: 15px;\"><b>Exemplo 1</b></span>\n",
                "\n",
                "<span style=\"font-family: inherit; font-style: inherit; font-variant-ligatures: inherit; font-variant-caps: inherit; font-weight: inherit; font-size: 15px;\">I wrote the following code to identify the multiple tables automatically, in case you have many files you need to process and don't want to look in each one to get the right row numbers. The code also looks for non-empty rows above each table and reads those as table metadata.</span>"
            ],
            "metadata": {
                "azdata_cell_guid": "70e6b50a-dd2e-4bf8-88c2-10cd51051358"
            },
            "attachments": {}
        },
        {
            "cell_type": "code",
            "source": [
                "def parse_excel_sheet(file, sheet_name=0, threshold=5):\r\n",
                "    '''parses multiple tables from an excel sheet into multiple data frame objects. Returns [dfs, df_mds], where dfs is a list of data frames and df_mds their potential associated metadata'''\r\n",
                "    xl = pd.ExcelFile(file)\r\n",
                "    entire_sheet = xl.parse(sheet_name=sheet_name)\r\n",
                "\r\n",
                "    # count the number of non-Nan cells in each row and then the change in that number between adjacent rows\r\n",
                "    n_values = np.logical_not(entire_sheet.isnull()).sum(axis=1)\r\n",
                "    n_values_deltas = n_values[1:] - n_values[:-1].values\r\n",
                "\r\n",
                "    # define the beginnings and ends of tables using delta in n_values\r\n",
                "    table_beginnings = n_values_deltas > threshold\r\n",
                "    table_beginnings = table_beginnings[table_beginnings].index\r\n",
                "    table_endings = n_values_deltas < -threshold\r\n",
                "    table_endings = table_endings[table_endings].index\r\n",
                "    if len(table_beginnings) < len(table_endings) or len(table_beginnings) > len(table_endings)+1:\r\n",
                "        raise BaseException('Could not detect equal number of beginnings and ends')\r\n",
                "\r\n",
                "    # look for metadata before the beginnings of tables\r\n",
                "    md_beginnings = []\r\n",
                "    for start in table_beginnings:\r\n",
                "        md_start = n_values.iloc[:start][n_values==0].index[-1] + 1\r\n",
                "        md_beginnings.append(md_start)\r\n",
                "\r\n",
                "    # make data frames\r\n",
                "    dfs = []\r\n",
                "    df_mds = []\r\n",
                "    for ind in range(len(table_beginnings)):\r\n",
                "        start = table_beginnings[ind]+1\r\n",
                "        if ind < len(table_endings):\r\n",
                "            stop = table_endings[ind]\r\n",
                "        else:\r\n",
                "            stop = entire_sheet.shape[0]\r\n",
                "        df = xl.parse(sheet_name=sheet_name, skiprows=start, nrows=stop-start)\r\n",
                "        dfs.append(df)\r\n",
                "\r\n",
                "        md = xl.parse(sheet_name=sheet_name, skiprows=md_beginnings[ind], nrows=start-md_beginnings[ind]-1).dropna(axis=1)\r\n",
                "        df_mds.append(md)\r\n",
                "    return dfs, df_mds"
            ],
            "metadata": {
                "azdata_cell_guid": "276aa83a-d01a-41be-92a7-81a3ee47583b"
            },
            "outputs": [],
            "execution_count": null
        }
    ]
}