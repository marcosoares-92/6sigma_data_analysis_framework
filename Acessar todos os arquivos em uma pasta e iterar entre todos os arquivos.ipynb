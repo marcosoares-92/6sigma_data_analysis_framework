{
    "metadata": {
        "kernelspec": {
            "name": "python3",
            "display_name": "Python 3 (ipykernel)",
            "language": "python"
        },
        "language_info": {
            "name": "python",
            "version": "3.8.10",
            "mimetype": "text/x-python",
            "codemirror_mode": {
                "name": "ipython",
                "version": 3
            },
            "pygments_lexer": "ipython3",
            "nbconvert_exporter": "python",
            "file_extension": ".py"
        }
    },
    "nbformat_minor": 2,
    "nbformat": 4,
    "cells": [
        {
            "cell_type": "markdown",
            "source": [
                "# Instruções gerais\n",
                "\n",
                "Para executar uma CÉLULA, pressione o botão \"Run\" no topo, com a CÉLULA selecionada, ou pressione:\n",
                "\n",
                "```\n",
                "Shift + Enter\n",
                "```\n",
                "\n",
                "EXECUTE APENAS UMA CÉLULA POR VEZ\n",
                "\n",
                "\\-Caso deseje apagar a saída de uma célula carregada, mas não deseje carregar uma nova saída, vá à aba superior, escolha o ícone do teclado (open the command palette/ jupyter-notebook command group) e selecione clear cell output.\n",
                "\n",
                "@author: Marco César Prado Soares, MSc. Especialista Lean Six Sigma Master Black Belt, Eng. Químico, MSc. Eng. Mecatrônica (instrumentação) [Marco.Soares@br.ey.com](mailto:&#77;&#97;&#x72;&#x63;&#111;&#46;&#x53;&#111;&#97;&#114;&#101;&#x73;&#x40;&#98;&#x72;&#x2e;&#x65;&#121;&#46;&#99;&#111;&#109;); [marcosoares.feq@gmail.com](mailto:&#x6d;&#x61;&#114;&#99;&#111;&#115;&#x6f;&#97;&#114;&#101;&#x73;&#x2e;&#x66;&#101;&#113;&#64;&#103;&#109;&#97;&#x69;&#x6c;&#46;&#x63;&#x6f;&#109;)"
            ],
            "metadata": {
                "azdata_cell_guid": "15275852-1c1c-4e18-b5f7-c399052bec61"
            },
            "attachments": {}
        },
        {
            "cell_type": "markdown",
            "source": [
                "**Acessar todos os arquivos em uma pasta e iterar entre todos os arquivos**"
            ],
            "metadata": {
                "azdata_cell_guid": "be58c13a-7578-4b48-8315-c3d8a97f7cd5"
            },
            "attachments": {}
        },
        {
            "cell_type": "markdown",
            "source": [
                "Fonte: https://www.kite.com/python/answers/how-to-open-all-files-in-a-directory-in-python\n",
                "\n",
                "# How to open all files in a directory in Python\n",
                "\n",
                "Opening all files in a directory prepares every file contained within a path to have file operations performed on them.\n",
                "\n",
                "## USE [`pathlib.Path.iterdir()`](https://kite.com/python/docs/pathlib.Path.iterdir) TO OPEN ALL FILES IN A DIRECTORY[](..\\..\\..\\..\\..\\..)\n",
                "\n",
                "Iterate through the contents of [`pathlib.Path(directory).iterdir()`](https://kite.com/python/docs/pathlib.Path.iterdir) with a for-loop to open all the files in `directory`. For each iteration, check if the path is a file with [`pathlib.Path().is_file()`](https://kite.com/python/docs/pathlib.Path.is_file). If true, call [`open(path, mode)`](https://kite.com/python/docs/builtins.open) to open `path` with `mode` and perform any file operations. Close the file when finished.\n",
                "\n",
                "DIRECTORY LISTING\n",
                "\n",
                "```\n",
                "-rw-r--r-- 3B file1.txt\n",
                "-rw-r--r-- 3B file2.txt\n",
                "-rw-r--r-- 3B file3.txt\n",
                "```\n",
                "\n",
                "A\\_DIRECTORY/FILE1.TXT\n",
                "\n",
                "```\n",
                "abc\n",
                "```\n",
                "\n",
                "A\\_DIRECTORY/FILE2.TXT\n",
                "\n",
                "```\n",
                "def\n",
                "```\n",
                "\n",
                "A\\_DIRECTORY/FILE3.TXT\n",
                "\n",
                "```\n",
                "ghi\n",
                "```"
            ],
            "metadata": {
                "azdata_cell_guid": "0f918a09-a9b7-4bd1-958c-30db8b3e63b6"
            },
            "attachments": {}
        },
        {
            "cell_type": "code",
            "source": [
                "for path in pathlib.Path(\"a_directory\").iterdir():\r\n",
                "    if path.is_file():\r\n",
                "        current_file = open(path, \"r\")\r\n",
                "        print(current_file.read())\r\n",
                "        current_file.close()"
            ],
            "metadata": {
                "azdata_cell_guid": "c613be85-ea23-4c87-9780-81392a5aa911"
            },
            "outputs": [],
            "execution_count": null
        },
        {
            "cell_type": "markdown",
            "source": [
                "OUTPUT\n",
                "\n",
                "```\n",
                "def\n",
                "ghi\n",
                "abc\n",
                "```"
            ],
            "metadata": {
                "azdata_cell_guid": "7eaff277-825e-456a-be78-05de3583e82e"
            },
            "attachments": {}
        }
    ]
}