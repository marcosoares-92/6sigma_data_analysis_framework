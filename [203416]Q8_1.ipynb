{
  "nbformat": 4,
  "nbformat_minor": 0,
  "metadata": {
    "kernelspec": {
      "display_name": "Python 3",
      "language": "python",
      "name": "python3"
    },
    "language_info": {
      "codemirror_mode": {
        "name": "ipython",
        "version": 3
      },
      "file_extension": ".py",
      "mimetype": "text/x-python",
      "name": "python",
      "nbconvert_exporter": "python",
      "pygments_lexer": "ipython3",
      "version": "3.7.7"
    },
    "colab": {
      "name": "[203416]Q8.1.ipynb",
      "provenance": [],
      "collapsed_sections": [],
      "toc_visible": true
    },
    "accelerator": "GPU"
  },
  "cells": [
    {
      "cell_type": "markdown",
      "metadata": {
        "id": "hFi1P1DT4FgS"
      },
      "source": [
        "# Solving a Maze with Deep Reinforcement Learning\n",
        "# FEEC/Unicamp - July/2020\n",
        "# Based on https://www.samyzaf.com/ML/rl/qmaze.html"
      ]
    },
    {
      "cell_type": "markdown",
      "metadata": {
        "id": "rjhi5kdG4FgT"
      },
      "source": [
        "### Importações e definições"
      ]
    },
    {
      "cell_type": "code",
      "metadata": {
        "id": "-aDpGQDz4Fg0"
      },
      "source": [
        "from __future__ import print_function\n",
        "from time import sleep\n",
        "from IPython import display\n",
        "import pylab as pl\n",
        "import os, sys, time, datetime, json, random\n",
        "import numpy as np\n",
        "from keras.models import Sequential\n",
        "from keras.layers.core import Dense, Activation\n",
        "from keras.optimizers import SGD , Adam, RMSprop\n",
        "from keras.layers.advanced_activations import PReLU\n",
        "import matplotlib.pyplot as plt\n",
        "%matplotlib inline"
      ],
      "execution_count": null,
      "outputs": []
    },
    {
      "cell_type": "code",
      "metadata": {
        "id": "JQs4V1wY_jJS"
      },
      "source": [
        "visited_mark = 0.8  # Cells visited by the rat will be painted by gray 0.8\n",
        "rat_mark = 0.5      # The current rat cell will be painted by gray 0.5\n",
        "LEFT = 0\n",
        "UP = 1\n",
        "RIGHT = 2\n",
        "DOWN = 3\n",
        "\n",
        "# Actions dictionary\n",
        "actions_dict = {\n",
        "    LEFT: 'left',\n",
        "    UP: 'up',\n",
        "    RIGHT: 'right',\n",
        "    DOWN: 'down',\n",
        "}\n",
        "\n",
        "num_actions = len(actions_dict)\n",
        "\n",
        "# Exploration factor\n",
        "epsilon = 0.1"
      ],
      "execution_count": null,
      "outputs": []
    },
    {
      "cell_type": "code",
      "metadata": {
        "id": "d1gPgFfQAMu_"
      },
      "source": [
        "# maze is a 2d Numpy array of floats between 0.0 to 1.0\n",
        "# 1.0 corresponds to a free cell, and 0.0 an occupied cell\n",
        "# rat = (row, col) initial rat position (defaults to (0,0))\n",
        "\n",
        "class Qmaze(object):\n",
        "    def __init__(self, maze, rat=(0,0)):\n",
        "        self._maze = np.array(maze)\n",
        "        nrows, ncols = self._maze.shape\n",
        "        self.target = (nrows-1, ncols-1)   # target cell where the \"cheese\" is\n",
        "        self.free_cells = [(r,c) for r in range(nrows) for c in range(ncols) if self._maze[r,c] == 1.0]\n",
        "        self.free_cells.remove(self.target)\n",
        "        if self._maze[self.target] == 0.0:\n",
        "            raise Exception(\"Invalid maze: target cell cannot be blocked!\")\n",
        "        if not rat in self.free_cells:\n",
        "            raise Exception(\"Invalid Rat Location: must sit on a free cell\")\n",
        "        self.reset(rat)\n",
        "\n",
        "    def reset(self, rat):\n",
        "        self.rat = rat\n",
        "        self.maze = np.copy(self._maze)\n",
        "        nrows, ncols = self.maze.shape\n",
        "        row, col = rat\n",
        "        self.maze[row, col] = rat_mark\n",
        "        self.state = (row, col, 'start')\n",
        "        self.min_reward = -0.5 * self.maze.size\n",
        "        self.total_reward = 0\n",
        "        self.visited = set()\n",
        "\n",
        "    def update_state(self, action):\n",
        "        nrows, ncols = self.maze.shape\n",
        "        nrow, ncol, nmode = rat_row, rat_col, mode = self.state\n",
        "\n",
        "        if self.maze[rat_row, rat_col] > 0.0:\n",
        "            self.visited.add((rat_row, rat_col))  # mark visited cell\n",
        "\n",
        "        valid_actions = self.valid_actions()\n",
        "                \n",
        "        if not valid_actions:\n",
        "            nmode = 'blocked'\n",
        "        elif action in valid_actions:\n",
        "            nmode = 'valid'\n",
        "            if action == LEFT:\n",
        "                ncol -= 1\n",
        "            elif action == UP:\n",
        "                nrow -= 1\n",
        "            if action == RIGHT:\n",
        "                ncol += 1\n",
        "            elif action == DOWN:\n",
        "                nrow += 1\n",
        "        else:                  # invalid action, no change in rat position\n",
        "            mode = 'invalid'\n",
        "\n",
        "        # new state\n",
        "        self.state = (nrow, ncol, nmode)\n",
        "\n",
        "    def get_reward(self):\n",
        "        rat_row, rat_col, mode = self.state\n",
        "        nrows, ncols = self.maze.shape\n",
        "        if rat_row == nrows-1 and rat_col == ncols-1:\n",
        "            return 1.0\n",
        "        if mode == 'blocked':\n",
        "            return self.min_reward - 1\n",
        "        if (rat_row, rat_col) in self.visited:\n",
        "            return -0.25\n",
        "        if mode == 'invalid':\n",
        "            return -0.75\n",
        "        if mode == 'valid':\n",
        "            return -0.04\n",
        "\n",
        "    def act(self, action):\n",
        "        self.update_state(action)\n",
        "        reward = self.get_reward()\n",
        "        self.total_reward += reward\n",
        "        status = self.game_status()\n",
        "        envstate = self.observe()\n",
        "        return envstate, reward, status\n",
        "\n",
        "    def observe(self):\n",
        "        canvas = self.draw_env()\n",
        "        envstate = canvas.reshape((1, -1))\n",
        "        return envstate\n",
        "\n",
        "    def draw_env(self):\n",
        "        canvas = np.copy(self.maze)\n",
        "        nrows, ncols = self.maze.shape\n",
        "        # clear all visual marks\n",
        "        for r in range(nrows):\n",
        "            for c in range(ncols):\n",
        "                if canvas[r,c] > 0.0:\n",
        "                    canvas[r,c] = 1.0\n",
        "        # draw the rat\n",
        "        row, col, valid = self.state\n",
        "        canvas[row, col] = rat_mark\n",
        "        return canvas\n",
        "\n",
        "    def game_status(self):\n",
        "        if self.total_reward < self.min_reward:\n",
        "            return 'lose'\n",
        "        rat_row, rat_col, mode = self.state\n",
        "        nrows, ncols = self.maze.shape\n",
        "        if rat_row == nrows-1 and rat_col == ncols-1:\n",
        "            return 'win'\n",
        "\n",
        "        return 'not_over'\n",
        "\n",
        "    def valid_actions(self, cell=None):\n",
        "        if cell is None:\n",
        "            row, col, mode = self.state\n",
        "        else:\n",
        "            row, col = cell\n",
        "        actions = [0, 1, 2, 3]\n",
        "        nrows, ncols = self.maze.shape\n",
        "        if row == 0:\n",
        "            actions.remove(1)\n",
        "        elif row == nrows-1:\n",
        "            actions.remove(3)\n",
        "\n",
        "        if col == 0:\n",
        "            actions.remove(0)\n",
        "        elif col == ncols-1:\n",
        "            actions.remove(2)\n",
        "\n",
        "        if row>0 and self.maze[row-1,col] == 0.0:\n",
        "            actions.remove(1)\n",
        "        if row<nrows-1 and self.maze[row+1,col] == 0.0:\n",
        "            actions.remove(3)\n",
        "\n",
        "        if col>0 and self.maze[row,col-1] == 0.0:\n",
        "            actions.remove(0)\n",
        "        if col<ncols-1 and self.maze[row,col+1] == 0.0:\n",
        "            actions.remove(2)\n",
        "\n",
        "        return actions"
      ],
      "execution_count": null,
      "outputs": []
    },
    {
      "cell_type": "code",
      "metadata": {
        "id": "ZEgvv0QHAcqO"
      },
      "source": [
        "def show(qmaze):\n",
        "    plt.grid('on')\n",
        "    nrows, ncols = qmaze.maze.shape\n",
        "    ax = plt.gca()\n",
        "    ax.set_xticks(np.arange(0.5, nrows, 1))\n",
        "    ax.set_yticks(np.arange(0.5, ncols, 1))\n",
        "    ax.set_xticklabels([])\n",
        "    ax.set_yticklabels([])\n",
        "    canvas = np.copy(qmaze.maze)\n",
        "    for row,col in qmaze.visited:\n",
        "        canvas[row,col] = 0.6\n",
        "    rat_row, rat_col, _ = qmaze.state\n",
        "    canvas[rat_row, rat_col] = 0.3   # rat cell\n",
        "    canvas[nrows-1, ncols-1] = 0.9 # cheese cell\n",
        "    img = plt.imshow(canvas, interpolation='none', cmap='gray')\n",
        "    return img"
      ],
      "execution_count": null,
      "outputs": []
    },
    {
      "cell_type": "code",
      "metadata": {
        "id": "2PTTplH_Am9F"
      },
      "source": [
        "## Primeiro Labirinto\n",
        "maze = np.array([\n",
        "    [ 1.,  0.,  1.,  1.,  1.,  1.,  1.,  1.],\n",
        "    [ 1.,  0.,  1.,  1.,  1.,  0.,  1.,  1.],\n",
        "    [ 1.,  1.,  1.,  1.,  0.,  1.,  0.,  1.],\n",
        "    [ 1.,  1.,  1.,  0.,  1.,  1.,  1.,  1.],\n",
        "    [ 1.,  1.,  0.,  1.,  1.,  1.,  1.,  1.],\n",
        "    [ 1.,  1.,  1.,  0.,  1.,  0.,  0.,  0.],\n",
        "    [ 1.,  1.,  1.,  0.,  1.,  1.,  1.,  1.],\n",
        "    [ 1.,  1.,  1.,  1.,  0.,  1.,  1.,  1.]\n",
        "])"
      ],
      "execution_count": null,
      "outputs": []
    },
    {
      "cell_type": "code",
      "metadata": {
        "id": "nXYrCEK_EZ-U"
      },
      "source": [
        "## Segundo Labirinto\n",
        "# maze = np.array([\n",
        "#     [ 1.,  0.,  1.,  1.,  1.,  1.,  1.,  1.,  1.,  1.],\n",
        "#     [ 1.,  1.,  1.,  1.,  1.,  0.,  1.,  1.,  1.,  1.],\n",
        "#     [ 1.,  1.,  1.,  1.,  1.,  0.,  1.,  1.,  1.,  1.],\n",
        "#     [ 0.,  0.,  1.,  0.,  0.,  1.,  0.,  1.,  1.,  1.],\n",
        "#     [ 1.,  1.,  0.,  1.,  0.,  1.,  0.,  0.,  0.,  1.],\n",
        "#     [ 1.,  1.,  0.,  1.,  0.,  1.,  1.,  1.,  1.,  1.],\n",
        "#     [ 1.,  1.,  1.,  1.,  1.,  1.,  1.,  1.,  1.,  1.],\n",
        "#     [ 1.,  1.,  1.,  1.,  1.,  1.,  0.,  0.,  0.,  0.],\n",
        "#     [ 1.,  0.,  0.,  0.,  0.,  0.,  1.,  1.,  1.,  1.],\n",
        "#     [ 1.,  1.,  1.,  1.,  1.,  1.,  1.,  0.,  1.,  1.]\n",
        "# ])"
      ],
      "execution_count": null,
      "outputs": []
    },
    {
      "cell_type": "code",
      "metadata": {
        "id": "HTO46kedArMF",
        "colab": {
          "base_uri": "https://localhost:8080/",
          "height": 289
        },
        "outputId": "fb936ec0-747a-4d75-af2c-dc194d6fd29a"
      },
      "source": [
        "qmaze = Qmaze(maze)\n",
        "canvas, reward, game_over = qmaze.act(DOWN)\n",
        "print(\"reward=\", reward)\n",
        "show(qmaze)"
      ],
      "execution_count": null,
      "outputs": [
        {
          "output_type": "stream",
          "text": [
            "reward= -0.04\n"
          ],
          "name": "stdout"
        },
        {
          "output_type": "execute_result",
          "data": {
            "text/plain": [
              "<matplotlib.image.AxesImage at 0x7f73d151ac50>"
            ]
          },
          "metadata": {
            "tags": []
          },
          "execution_count": 7
        },
        {
          "output_type": "display_data",
          "data": {
            "image/png": "[encoded data removed]",
            "text/plain": [
              "<Figure size 432x288 with 1 Axes>"
            ]
          },
          "metadata": {
            "tags": [],
            "needs_background": "light"
          }
        }
      ]
    },
    {
      "cell_type": "code",
      "metadata": {
        "id": "5QOkRblSA3IH",
        "colab": {
          "base_uri": "https://localhost:8080/",
          "height": 271
        },
        "outputId": "fcfe09f6-93de-4f00-bae1-9de507e046ca"
      },
      "source": [
        "qmaze.act(DOWN)  # move down\n",
        "qmaze.act(RIGHT)  # move right\n",
        "qmaze.act(RIGHT)  # move right\n",
        "qmaze.act(RIGHT)  # move right\n",
        "qmaze.act(UP)  # move up\n",
        "show(qmaze)"
      ],
      "execution_count": null,
      "outputs": [
        {
          "output_type": "execute_result",
          "data": {
            "text/plain": [
              "<matplotlib.image.AxesImage at 0x7f73d0ff28d0>"
            ]
          },
          "metadata": {
            "tags": []
          },
          "execution_count": 8
        },
        {
          "output_type": "display_data",
          "data": {
            "image/png": "[encoded data removed]",
            "text/plain": [
              "<Figure size 432x288 with 1 Axes>"
            ]
          },
          "metadata": {
            "tags": [],
            "needs_background": "light"
          }
        }
      ]
    },
    {
      "cell_type": "code",
      "metadata": {
        "id": "5Qj1TKfnA9qu"
      },
      "source": [
        "def play_game(model, qmaze, rat_cell):\n",
        "    qmaze.reset(rat_cell)\n",
        "    envstate = qmaze.observe()\n",
        "    while True:\n",
        "        prev_envstate = envstate\n",
        "        # get next action\n",
        "        q = model.predict(prev_envstate)\n",
        "        action = np.argmax(q[0])\n",
        "\n",
        "        # apply action, get rewards and new state\n",
        "        envstate, reward, game_status = qmaze.act(action)\n",
        "        if game_status == 'win':\n",
        "            return True\n",
        "        elif game_status == 'lose':\n",
        "            return False"
      ],
      "execution_count": null,
      "outputs": []
    },
    {
      "cell_type": "code",
      "metadata": {
        "id": "zw53DdHQBKF0"
      },
      "source": [
        "def completion_check(model, qmaze):\n",
        "    for cell in qmaze.free_cells:\n",
        "        if not qmaze.valid_actions(cell):\n",
        "            return False\n",
        "        if not play_game(model, qmaze, cell):\n",
        "            return False\n",
        "    return True"
      ],
      "execution_count": null,
      "outputs": []
    },
    {
      "cell_type": "code",
      "metadata": {
        "id": "Bm9WstgwBgjg"
      },
      "source": [
        "class Experience(object):\n",
        "    def __init__(self, model, max_memory=100, discount=0.95):\n",
        "        self.model = model\n",
        "        self.max_memory = max_memory\n",
        "        self.discount = discount\n",
        "        self.memory = list()\n",
        "        self.num_actions = model.output_shape[-1]\n",
        "\n",
        "    def remember(self, episode):\n",
        "        # episode = [envstate, action, reward, envstate_next, game_over]\n",
        "        # memory[i] = episode\n",
        "        # envstate == flattened 1d maze cells info, including rat cell (see method: observe)\n",
        "        self.memory.append(episode)\n",
        "        if len(self.memory) > self.max_memory:\n",
        "            del self.memory[0]\n",
        "\n",
        "    def predict(self, envstate):\n",
        "        return self.model.predict(envstate)[0]\n",
        "\n",
        "    def get_data(self, data_size=10):\n",
        "        env_size = self.memory[0][0].shape[1]   # envstate 1d size (1st element of episode)\n",
        "        mem_size = len(self.memory)\n",
        "        data_size = min(mem_size, data_size)\n",
        "        inputs = np.zeros((data_size, env_size))\n",
        "        targets = np.zeros((data_size, self.num_actions))\n",
        "        for i, j in enumerate(np.random.choice(range(mem_size), data_size, replace=False)):\n",
        "            envstate, action, reward, envstate_next, game_over = self.memory[j]\n",
        "            inputs[i] = envstate\n",
        "            # There should be no target values for actions not taken.\n",
        "            targets[i] = self.predict(envstate)\n",
        "            # Q_sa = derived policy = max quality env/action = max_a' Q(s', a')\n",
        "            Q_sa = np.max(self.predict(envstate_next))\n",
        "            if game_over:\n",
        "                targets[i, action] = reward\n",
        "            else:\n",
        "                # reward + gamma * max_a' Q(s', a')\n",
        "                targets[i, action] = reward + self.discount * Q_sa\n",
        "        return inputs, targets"
      ],
      "execution_count": null,
      "outputs": []
    },
    {
      "cell_type": "code",
      "metadata": {
        "id": "-QvK92JaBiL7"
      },
      "source": [
        "def qtrain(model, maze, **opt):\n",
        "    global epsilon\n",
        "    n_epoch = opt.get('n_epoch', 15000)\n",
        "    max_memory = opt.get('max_memory', 1000)\n",
        "    data_size = opt.get('data_size', 50)\n",
        "    weights_file = opt.get('weights_file', \"\")\n",
        "    name = opt.get('name', 'model')\n",
        "    start_time = datetime.datetime.now()\n",
        "\n",
        "    # If you want to continue training from a previous model,\n",
        "    # just supply the h5 file name to weights_file option\n",
        "    if weights_file:\n",
        "        print(\"loading weights from file: %s\" % (weights_file,))\n",
        "        model.load_weights(weights_file)\n",
        "\n",
        "    # Construct environment/game from numpy array: maze (see above)\n",
        "    qmaze = Qmaze(maze)\n",
        "\n",
        "    # Initialize experience replay object\n",
        "    experience = Experience(model, max_memory=max_memory)\n",
        "\n",
        "    win_history = []   # history of win/lose game\n",
        "    n_free_cells = len(qmaze.free_cells)\n",
        "    hsize = qmaze.maze.size//2   # history window size\n",
        "    win_rate = 0.0\n",
        "    imctr = 1\n",
        "\n",
        "    for epoch in range(n_epoch):\n",
        "        loss = 0.0\n",
        "        rat_cell = random.choice(qmaze.free_cells)\n",
        "        qmaze.reset(rat_cell)\n",
        "        game_over = False\n",
        "\n",
        "        # get initial envstate (1d flattened canvas)\n",
        "        envstate = qmaze.observe()\n",
        "\n",
        "        n_episodes = 0\n",
        "        while not game_over:\n",
        "            valid_actions = qmaze.valid_actions()\n",
        "            if not valid_actions: break\n",
        "            prev_envstate = envstate\n",
        "            # Get next action\n",
        "            if np.random.rand() < epsilon:\n",
        "                action = random.choice(valid_actions)\n",
        "            else:\n",
        "                action = np.argmax(experience.predict(prev_envstate))\n",
        "\n",
        "            # Apply action, get reward and new envstate\n",
        "            envstate, reward, game_status = qmaze.act(action)\n",
        "            if game_status == 'win':\n",
        "                win_history.append(1)\n",
        "                game_over = True\n",
        "            elif game_status == 'lose':\n",
        "                win_history.append(0)\n",
        "                game_over = True\n",
        "            else:\n",
        "                game_over = False\n",
        "\n",
        "            # Store episode (experience)\n",
        "            episode = [prev_envstate, action, reward, envstate, game_over]\n",
        "            experience.remember(episode)\n",
        "            n_episodes += 1\n",
        "\n",
        "            # Train neural network model\n",
        "            inputs, targets = experience.get_data(data_size=data_size)\n",
        "            h = model.fit(\n",
        "                inputs,\n",
        "                targets,\n",
        "                epochs=8,\n",
        "                batch_size=16,\n",
        "                verbose=0,\n",
        "            )\n",
        "            loss = model.evaluate(inputs, targets, verbose=0)\n",
        "\n",
        "        if len(win_history) > hsize:\n",
        "            win_rate = sum(win_history[-hsize:]) / hsize\n",
        "    \n",
        "        dt = datetime.datetime.now() - start_time\n",
        "        t = format_time(dt.total_seconds())\n",
        "        template = \"Epoch: {:03d}/{:d} | Loss: {:.4f} | Episodes: {:d} | Win count: {:d} | Win rate: {:.3f} | time: {}\"\n",
        "        print(template.format(epoch, n_epoch-1, loss, n_episodes, sum(win_history), win_rate, t))\n",
        "        # we simply check if training has exhausted all free cells and if in all\n",
        "        # cases the agent won\n",
        "        if win_rate > 0.9 : epsilon = 0.05\n",
        "        if sum(win_history[-hsize:]) == hsize and completion_check(model, qmaze):\n",
        "            print(\"Reached 100%% win rate at epoch: %d\" % (epoch,))\n",
        "            break\n",
        "\n",
        "    # Save trained model weights and architecture, this will be used by the visualization code\n",
        "    h5file = name + \".h5\"\n",
        "    json_file = name + \".json\"\n",
        "    model.save_weights(h5file, overwrite=True)\n",
        "    with open(json_file, \"w\") as outfile:\n",
        "        json.dump(model.to_json(), outfile)\n",
        "    end_time = datetime.datetime.now()\n",
        "    dt = datetime.datetime.now() - start_time\n",
        "    seconds = dt.total_seconds()\n",
        "    t = format_time(seconds)\n",
        "    print('files: %s, %s' % (h5file, json_file))\n",
        "    print(\"n_epoch: %d, max_mem: %d, data: %d, time: %s\" % (epoch, max_memory, data_size, t))\n",
        "    return seconds\n",
        "\n",
        "# This is a small utility for printing readable time strings:\n",
        "def format_time(seconds):\n",
        "    if seconds < 400:\n",
        "        s = float(seconds)\n",
        "        return \"%.1f seconds\" % (s,)\n",
        "    elif seconds < 4000:\n",
        "        m = seconds / 60.0\n",
        "        return \"%.2f minutes\" % (m,)\n",
        "    else:\n",
        "        h = seconds / 3600.0\n",
        "        return \"%.2f hours\" % (h,)"
      ],
      "execution_count": null,
      "outputs": []
    },
    {
      "cell_type": "code",
      "metadata": {
        "id": "7W6tHgyyBzrr"
      },
      "source": [
        "def build_model(maze, lr=0.001):\n",
        "    model = Sequential()\n",
        "    model.add(Dense(maze.size, input_shape=(maze.size,)))\n",
        "    model.add(PReLU())\n",
        "    model.add(Dense(maze.size))\n",
        "    model.add(PReLU())\n",
        "    model.add(Dense(num_actions))\n",
        "    model.compile(optimizer='adam', loss='mse')\n",
        "    return model"
      ],
      "execution_count": null,
      "outputs": []
    },
    {
      "cell_type": "code",
      "metadata": {
        "id": "gUWPPKi6B5tj",
        "colab": {
          "base_uri": "https://localhost:8080/",
          "height": 271
        },
        "outputId": "fe87265c-89f1-472f-e97b-2bb8ac19cbf5"
      },
      "source": [
        "## Primeiro Labirinto\n",
        "maze =  np.array([\n",
        "    [ 1.,  0.,  1.,  1.,  1.,  1.,  1.],\n",
        "    [ 1.,  1.,  1.,  0.,  0.,  1.,  0.],\n",
        "    [ 0.,  0.,  0.,  1.,  1.,  1.,  0.],\n",
        "    [ 1.,  1.,  1.,  1.,  0.,  0.,  1.],\n",
        "    [ 1.,  0.,  0.,  0.,  1.,  1.,  1.],\n",
        "    [ 1.,  0.,  1.,  1.,  1.,  1.,  1.],\n",
        "    [ 1.,  1.,  1.,  0.,  1.,  1.,  1.]\n",
        "])\n",
        "\n",
        "qmaze = Qmaze(maze)\n",
        "show(qmaze)"
      ],
      "execution_count": null,
      "outputs": [
        {
          "output_type": "execute_result",
          "data": {
            "text/plain": [
              "<matplotlib.image.AxesImage at 0x7f73d0f78cd0>"
            ]
          },
          "metadata": {
            "tags": []
          },
          "execution_count": 14
        },
        {
          "output_type": "display_data",
          "data": {
            "image/png": "[encoded data removed]",
            "text/plain": [
              "<Figure size 432x288 with 1 Axes>"
            ]
          },
          "metadata": {
            "tags": [],
            "needs_background": "light"
          }
        }
      ]
    },
    {
      "cell_type": "code",
      "metadata": {
        "id": "sXIvaUxDE2tE"
      },
      "source": [
        "## Segundo Labirinto\n",
        "# maze = np.array([\n",
        "#     [ 1.,  0.,  1.,  1.,  1.,  1.,  1.,  1.,  1.,  1.],\n",
        "#     [ 1.,  1.,  1.,  1.,  1.,  0.,  1.,  1.,  1.,  1.],\n",
        "#     [ 1.,  1.,  1.,  1.,  1.,  0.,  1.,  1.,  1.,  1.],\n",
        "#     [ 0.,  0.,  1.,  0.,  0.,  1.,  0.,  1.,  1.,  1.],\n",
        "#     [ 1.,  1.,  0.,  1.,  0.,  1.,  0.,  0.,  0.,  1.],\n",
        "#     [ 1.,  1.,  0.,  1.,  0.,  1.,  1.,  1.,  1.,  1.],\n",
        "#     [ 1.,  1.,  1.,  1.,  1.,  1.,  1.,  1.,  1.,  1.],\n",
        "#     [ 1.,  1.,  1.,  1.,  1.,  1.,  0.,  0.,  0.,  0.],\n",
        "#     [ 1.,  0.,  0.,  0.,  0.,  0.,  1.,  1.,  1.,  1.],\n",
        "#     [ 1.,  1.,  1.,  1.,  1.,  1.,  1.,  0.,  1.,  1.]\n",
        "# ])\n",
        "# qmaze = Qmaze(maze)\n",
        "# show(qmaze)"
      ],
      "execution_count": null,
      "outputs": []
    },
    {
      "cell_type": "code",
      "metadata": {
        "id": "wK9lCeTACAcy",
        "colab": {
          "base_uri": "https://localhost:8080/"
        },
        "outputId": "805c4ad9-1eea-4b08-d38f-7063031e3b19"
      },
      "source": [
        "model = build_model(maze)\n",
        "qtrain(model, maze, epochs=1000, max_memory=8*maze.size, data_size=32)"
      ],
      "execution_count": null,
      "outputs": [
        {
          "output_type": "stream",
          "text": [
            "Epoch: 000/14999 | Loss: 0.0008 | Episodes: 3 | Win count: 1 | Win rate: 0.000 | time: 17.3 seconds\n",
            "Epoch: 001/14999 | Loss: 0.0033 | Episodes: 106 | Win count: 1 | Win rate: 0.000 | time: 296.6 seconds\n",
            "Epoch: 002/14999 | Loss: 0.0012 | Episodes: 45 | Win count: 2 | Win rate: 0.000 | time: 7.15 minutes\n",
            "Epoch: 003/14999 | Loss: 0.0158 | Episodes: 105 | Win count: 2 | Win rate: 0.000 | time: 12.35 minutes\n",
            "Epoch: 004/14999 | Loss: 0.0033 | Episodes: 2 | Win count: 3 | Win rate: 0.000 | time: 12.45 minutes\n",
            "Epoch: 005/14999 | Loss: 0.0053 | Episodes: 43 | Win count: 4 | Win rate: 0.000 | time: 14.59 minutes\n",
            "Epoch: 006/14999 | Loss: 0.0302 | Episodes: 11 | Win count: 5 | Win rate: 0.000 | time: 15.13 minutes\n",
            "Epoch: 007/14999 | Loss: 0.0044 | Episodes: 105 | Win count: 5 | Win rate: 0.000 | time: 20.32 minutes\n",
            "Epoch: 008/14999 | Loss: 0.0062 | Episodes: 2 | Win count: 6 | Win rate: 0.000 | time: 20.42 minutes\n",
            "Epoch: 009/14999 | Loss: 0.0017 | Episodes: 2 | Win count: 7 | Win rate: 0.000 | time: 20.52 minutes\n",
            "Epoch: 010/14999 | Loss: 0.0025 | Episodes: 104 | Win count: 7 | Win rate: 0.000 | time: 25.72 minutes\n",
            "Epoch: 011/14999 | Loss: 0.0031 | Episodes: 104 | Win count: 7 | Win rate: 0.000 | time: 30.94 minutes\n",
            "Epoch: 012/14999 | Loss: 0.0042 | Episodes: 53 | Win count: 8 | Win rate: 0.000 | time: 33.55 minutes\n",
            "Epoch: 013/14999 | Loss: 0.0361 | Episodes: 19 | Win count: 9 | Win rate: 0.000 | time: 34.50 minutes\n",
            "Epoch: 014/14999 | Loss: 0.0063 | Episodes: 6 | Win count: 10 | Win rate: 0.000 | time: 34.79 minutes\n",
            "Epoch: 015/14999 | Loss: 0.0023 | Episodes: 2 | Win count: 11 | Win rate: 0.000 | time: 34.89 minutes\n",
            "Epoch: 016/14999 | Loss: 0.0064 | Episodes: 104 | Win count: 11 | Win rate: 0.000 | time: 40.05 minutes\n",
            "Epoch: 017/14999 | Loss: 0.0284 | Episodes: 1 | Win count: 12 | Win rate: 0.000 | time: 40.09 minutes\n",
            "Epoch: 018/14999 | Loss: 0.0129 | Episodes: 37 | Win count: 13 | Win rate: 0.000 | time: 41.93 minutes\n",
            "Epoch: 019/14999 | Loss: 0.0282 | Episodes: 12 | Win count: 14 | Win rate: 0.000 | time: 42.52 minutes\n",
            "Epoch: 020/14999 | Loss: 0.0016 | Episodes: 17 | Win count: 15 | Win rate: 0.000 | time: 43.35 minutes\n",
            "Epoch: 021/14999 | Loss: 0.0152 | Episodes: 4 | Win count: 16 | Win rate: 0.000 | time: 43.55 minutes\n",
            "Epoch: 022/14999 | Loss: 0.0041 | Episodes: 102 | Win count: 16 | Win rate: 0.000 | time: 48.62 minutes\n",
            "Epoch: 023/14999 | Loss: 0.0054 | Episodes: 7 | Win count: 17 | Win rate: 0.000 | time: 48.97 minutes\n",
            "Epoch: 024/14999 | Loss: 0.0020 | Episodes: 1 | Win count: 18 | Win rate: 0.708 | time: 49.02 minutes\n",
            "Epoch: 025/14999 | Loss: 0.0042 | Episodes: 106 | Win count: 18 | Win rate: 0.708 | time: 54.27 minutes\n",
            "Epoch: 026/14999 | Loss: 0.0015 | Episodes: 3 | Win count: 19 | Win rate: 0.708 | time: 54.41 minutes\n",
            "Epoch: 027/14999 | Loss: 0.0143 | Episodes: 19 | Win count: 20 | Win rate: 0.750 | time: 55.36 minutes\n",
            "Epoch: 028/14999 | Loss: 0.0406 | Episodes: 2 | Win count: 21 | Win rate: 0.750 | time: 55.46 minutes\n",
            "Epoch: 029/14999 | Loss: 0.0049 | Episodes: 9 | Win count: 22 | Win rate: 0.750 | time: 55.91 minutes\n",
            "Epoch: 030/14999 | Loss: 0.0251 | Episodes: 12 | Win count: 23 | Win rate: 0.750 | time: 56.50 minutes\n",
            "Epoch: 031/14999 | Loss: 0.0022 | Episodes: 15 | Win count: 24 | Win rate: 0.792 | time: 57.25 minutes\n",
            "Epoch: 032/14999 | Loss: 0.0020 | Episodes: 104 | Win count: 24 | Win rate: 0.750 | time: 62.47 minutes\n",
            "Epoch: 033/14999 | Loss: 0.0048 | Episodes: 32 | Win count: 25 | Win rate: 0.750 | time: 64.07 minutes\n",
            "Epoch: 034/14999 | Loss: 0.0018 | Episodes: 8 | Win count: 26 | Win rate: 0.792 | time: 64.47 minutes\n",
            "Epoch: 035/14999 | Loss: 0.0031 | Episodes: 63 | Win count: 27 | Win rate: 0.833 | time: 1.13 hours\n",
            "Epoch: 036/14999 | Loss: 0.0051 | Episodes: 15 | Win count: 28 | Win rate: 0.833 | time: 1.14 hours\n",
            "Epoch: 037/14999 | Loss: 0.0011 | Episodes: 31 | Win count: 29 | Win rate: 0.833 | time: 1.16 hours\n",
            "Epoch: 038/14999 | Loss: 0.0014 | Episodes: 3 | Win count: 30 | Win rate: 0.833 | time: 1.17 hours\n",
            "Epoch: 039/14999 | Loss: 0.0053 | Episodes: 25 | Win count: 31 | Win rate: 0.833 | time: 1.19 hours\n",
            "Epoch: 040/14999 | Loss: 0.0007 | Episodes: 8 | Win count: 32 | Win rate: 0.875 | time: 1.19 hours\n",
            "Epoch: 041/14999 | Loss: 0.0008 | Episodes: 11 | Win count: 33 | Win rate: 0.875 | time: 1.20 hours\n",
            "Epoch: 042/14999 | Loss: 0.0012 | Episodes: 19 | Win count: 34 | Win rate: 0.875 | time: 1.22 hours\n",
            "Epoch: 043/14999 | Loss: 0.0009 | Episodes: 88 | Win count: 35 | Win rate: 0.875 | time: 1.29 hours\n",
            "Epoch: 044/14999 | Loss: 0.0009 | Episodes: 6 | Win count: 36 | Win rate: 0.875 | time: 1.30 hours\n",
            "Epoch: 045/14999 | Loss: 0.0018 | Episodes: 15 | Win count: 37 | Win rate: 0.875 | time: 1.31 hours\n",
            "Epoch: 046/14999 | Loss: 0.0005 | Episodes: 4 | Win count: 38 | Win rate: 0.917 | time: 1.31 hours\n",
            "Epoch: 047/14999 | Loss: 0.0008 | Episodes: 6 | Win count: 39 | Win rate: 0.917 | time: 1.32 hours\n",
            "Epoch: 048/14999 | Loss: 0.0007 | Episodes: 3 | Win count: 40 | Win rate: 0.917 | time: 1.32 hours\n",
            "Epoch: 049/14999 | Loss: 0.0005 | Episodes: 2 | Win count: 41 | Win rate: 0.958 | time: 1.32 hours\n",
            "Epoch: 050/14999 | Loss: 0.0007 | Episodes: 3 | Win count: 42 | Win rate: 0.958 | time: 1.33 hours\n",
            "Epoch: 051/14999 | Loss: 0.0007 | Episodes: 26 | Win count: 43 | Win rate: 0.958 | time: 1.35 hours\n",
            "Epoch: 052/14999 | Loss: 0.0008 | Episodes: 15 | Win count: 44 | Win rate: 0.958 | time: 1.36 hours\n",
            "Epoch: 053/14999 | Loss: 0.0027 | Episodes: 17 | Win count: 45 | Win rate: 0.958 | time: 1.37 hours\n",
            "Epoch: 054/14999 | Loss: 0.0009 | Episodes: 8 | Win count: 46 | Win rate: 0.958 | time: 1.38 hours\n",
            "Epoch: 055/14999 | Loss: 0.0004 | Episodes: 17 | Win count: 47 | Win rate: 0.958 | time: 1.39 hours\n",
            "Epoch: 056/14999 | Loss: 0.0013 | Episodes: 22 | Win count: 48 | Win rate: 1.000 | time: 1.41 hours\n",
            "Epoch: 057/14999 | Loss: 0.0017 | Episodes: 22 | Win count: 49 | Win rate: 1.000 | time: 1.43 hours\n",
            "Reached 100% win rate at epoch: 57\n",
            "files: model.h5, model.json\n",
            "n_epoch: 57, max_mem: 392, data: 32, time: 1.44 hours\n"
          ],
          "name": "stdout"
        },
        {
          "output_type": "execute_result",
          "data": {
            "text/plain": [
              "5169.662895"
            ]
          },
          "metadata": {
            "tags": []
          },
          "execution_count": 16
        }
      ]
    },
    {
      "cell_type": "code",
      "metadata": {
        "id": "oj3EC2GBDkYu",
        "colab": {
          "base_uri": "https://localhost:8080/",
          "height": 504
        },
        "outputId": "206ca6ea-763f-48af-d538-0e9ce86702be"
      },
      "source": [
        "rat_cell = random.choice(qmaze.free_cells)\n",
        "qmaze.reset(rat_cell)\n",
        "envstate = qmaze.observe()\n",
        "game_status = 'lose'\n",
        "q_ = []\n",
        "while(game_status != 'win'):\n",
        "  q = model.predict(envstate)\n",
        "  q_.append(q)\n",
        "  action = np.argmax(q[0])\n",
        "  # action = np.argmax(model.predict(envstate))\n",
        "  envstate, reward, game_status = qmaze.act(action)\n",
        "  show(qmaze)\n",
        "  display.clear_output(wait=True)\n",
        "  display.display(pl.gcf())\n",
        "  plt.gca().clear()\n",
        "  sleep(0.2)"
      ],
      "execution_count": null,
      "outputs": [
        {
          "output_type": "display_data",
          "data": {
            "image/png": "[encoded data removed]",
            "text/plain": [
              "<Figure size 432x288 with 1 Axes>"
            ]
          },
          "metadata": {
            "tags": []
          }
        },
        {
          "output_type": "display_data",
          "data": {
            "image/png": "[encoded data removed]",
            "text/plain": [
              "<Figure size 432x288 with 1 Axes>"
            ]
          },
          "metadata": {
            "tags": [],
            "needs_background": "light"
          }
        }
      ]
    },
    {
      "cell_type": "code",
      "metadata": {
        "colab": {
          "base_uri": "https://localhost:8080/"
        },
        "id": "XDTdOcSwEhbi",
        "outputId": "b4fec31d-f4a2-48b7-a494-359ba65c9fd5"
      },
      "source": [
        "## Q Valor 1º caso\n",
        "for i in range(4): \n",
        "  print(q_[i])"
      ],
      "execution_count": null,
      "outputs": [
        {
          "output_type": "stream",
          "text": [
            "[[0.37333703 0.28772277 0.7594794  0.3763923 ]]\n",
            "[[0.47763532 0.26987016 0.83490604 0.39552397]]\n",
            "[[0.52240294 0.7241215  0.8639096  0.76833785]]\n",
            "[[ 0.6058393   0.34568983 -0.4815372   1.004082  ]]\n"
          ],
          "name": "stdout"
        }
      ]
    },
    {
      "cell_type": "code",
      "metadata": {
        "colab": {
          "base_uri": "https://localhost:8080/",
          "height": 504
        },
        "id": "mJm8XEvJA0eZ",
        "outputId": "21f7d708-6add-41f7-ccd1-5a7ffa417db2"
      },
      "source": [
        "rat_cell = random.choice(qmaze.free_cells)\n",
        "qmaze.reset(rat_cell)\n",
        "envstate = qmaze.observe()\n",
        "game_status = 'lose'\n",
        "q_ = []\n",
        "while(game_status != 'win'):\n",
        "  q = model.predict(envstate)\n",
        "  q_.append(q)\n",
        "  action = np.argmax(q[0])\n",
        "  # action = np.argmax(model.predict(envstate))\n",
        "  envstate, reward, game_status = qmaze.act(action)\n",
        "  show(qmaze)\n",
        "  display.clear_output(wait=True)\n",
        "  display.display(pl.gcf())\n",
        "  plt.gca().clear()\n",
        "  sleep(0.2)"
      ],
      "execution_count": null,
      "outputs": [
        {
          "output_type": "display_data",
          "data": {
            "image/png": "[encoded data removed]",
            "text/plain": [
              "<Figure size 432x288 with 1 Axes>"
            ]
          },
          "metadata": {
            "tags": []
          }
        },
        {
          "output_type": "display_data",
          "data": {
            "image/png": "[encoded data removed]",
            "text/plain": [
              "<Figure size 432x288 with 1 Axes>"
            ]
          },
          "metadata": {
            "tags": [],
            "needs_background": "light"
          }
        }
      ]
    },
    {
      "cell_type": "code",
      "metadata": {
        "colab": {
          "base_uri": "https://localhost:8080/"
        },
        "id": "13fejZ2HKmA5",
        "outputId": "628d87b8-2d9b-4131-ead0-f97aa7569654"
      },
      "source": [
        "## Q Valor 2º caso\n",
        "for i in range(25): \n",
        "  print(q_[i])"
      ],
      "execution_count": null,
      "outputs": [
        {
          "output_type": "stream",
          "text": [
            "[[-0.98353255 -1.183878   -0.71404    -0.98237586]]\n",
            "[[-0.99037033 -0.94543564 -0.51852435 -0.8329983 ]]\n",
            "[[-0.9944914  -0.45206845 -0.5820496  -0.86362857]]\n",
            "[[-0.77304596 -0.62910867 -0.33896732 -0.6074903 ]]\n",
            "[[-1.0283556  -0.5624829  -0.24794506 -0.5553095 ]]\n",
            "[[-0.72422594 -0.5062955  -0.16954876 -0.6683452 ]]\n",
            "[[-0.48467782 -0.63314384 -0.49250716 -0.25889802]]\n",
            "[[-0.41471416 -0.47407103 -0.2592787  -0.23770972]]\n",
            "[[-0.18102539 -0.34360117 -0.36261353 -0.34494781]]\n",
            "[[-0.12908629 -0.6165989  -0.30575192 -0.3738472 ]]\n",
            "[[-0.24437231 -0.5340516  -0.34988883 -0.04293168]]\n",
            "[[-0.09835809 -0.3776269  -0.31379658 -0.26850754]]\n",
            "[[-0.02362951 -0.30537307 -0.3578539  -0.14584343]]\n",
            "[[ 0.06514993 -0.10891056 -0.19438623 -0.10813998]]\n",
            "[[-0.02810889 -0.06218432 -0.11093217  0.14453615]]\n",
            "[[ 0.04733348 -0.1546442  -0.28871042  0.15811   ]]\n",
            "[[ 0.03887209 -0.0186456   0.03753093  0.26250863]]\n",
            "[[-0.19706193 -0.02600822  0.45369524 -0.03316413]]\n",
            "[[ 0.07673317  0.35234803  0.55562437 -0.1492704 ]]\n",
            "[[-0.07487111  0.63351655  0.36204815 -0.06104064]]\n",
            "[[0.27002656 0.31373376 0.6932827  0.26089966]]\n",
            "[[0.37333703 0.28772277 0.7594794  0.3763923 ]]\n",
            "[[0.47763532 0.26987016 0.83490604 0.39552397]]\n",
            "[[0.52240294 0.7241215  0.8639096  0.76833785]]\n",
            "[[ 0.6058393   0.34568983 -0.4815372   1.004082  ]]\n"
          ],
          "name": "stdout"
        }
      ]
    },
    {
      "cell_type": "markdown",
      "metadata": {
        "id": "JNGLOJQA4ElV"
      },
      "source": [
        "-----------------\n",
        "#### Discussões"
      ]
    },
    {
      "cell_type": "markdown",
      "metadata": {
        "id": "cI2JG4bw4J4j"
      },
      "source": [
        "* **8.3:** O Notebook foi executado com sucesso para os dois labirintos propostos de dimensões 7x7 e 10x10 (sendo este disponibilizado em um Notebook adicional).\n",
        "* **8.4:** Para dois casos de estudo, com condições iniciais distintas, foram apresentados os valores da função Q-valor ao longo de todo o percurso no labirinto até chegar à recompensa. Assim, cada linha apresentada faz referência à um estado do ambiente (da posição inicial até a final). Uma vez que q =[q1, q2, q3, q4] faz referencia, repectivamente, a [Left, Up, Right, Down], fica evidente que a ação tomada sempre segue o máximo valor da função Q-Valor produzida pela RN.\n",
        "* **8.5:** O objetivo do treinamento é fazer com que a rede consiga aproximar a função Q-valor. Assim, a função de erro calcula a diferença quadrática entre a saída da função Q-valor sintetizada pela RN e a saída alvo que está associada à equação de Bellman. Desta forma, quando a RN estiver suficientemente treinada e acurada ela produzirá os valores desejados, sem a necessidade de mapear todas as possibilidades partindo do estado atual. \n",
        "* **8.6:** Ao longo do jogo são coletados episódios do jogo (experiencias) e guardados em uma lista. E enquanto a rede não aprende a ganhar, ela continua jogando esses episódios desafiadores até conseguir vencer, em \"replay\". Sem essa técnica, parte do progresso poderia ser perdido simplesmente por não ter ganhado, o que atrazaria ainda mais o aprendizado da máquina."
      ]
    }
  ]
}