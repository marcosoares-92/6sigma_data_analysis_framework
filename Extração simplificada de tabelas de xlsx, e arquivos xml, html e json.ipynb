{
    "metadata": {
        "kernelspec": {
            "name": "python3",
            "display_name": "Python 3 (ipykernel)",
            "language": "python"
        },
        "language_info": {
            "name": "python",
            "version": "3.8.10",
            "mimetype": "text/x-python",
            "codemirror_mode": {
                "name": "ipython",
                "version": 3
            },
            "pygments_lexer": "ipython3",
            "nbconvert_exporter": "python",
            "file_extension": ".py"
        }
    },
    "nbformat_minor": 2,
    "nbformat": 4,
    "cells": [
        {
            "cell_type": "markdown",
            "source": [
                "# Instruções gerais\n",
                "\n",
                "Para executar uma CÉLULA, pressione o botão \"Run\" no topo, com a CÉLULA selecionada, ou pressione:\n",
                "\n",
                "```\n",
                "Shift + Enter\n",
                "```\n",
                "\n",
                "EXECUTE APENAS UMA CÉLULA POR VEZ\n",
                "\n",
                "\\-Caso deseje apagar a saída de uma célula carregada, mas não deseje carregar uma nova saída, vá à aba superior, escolha o ícone do teclado (open the command palette/ jupyter-notebook command group) e selecione clear cell output.\n",
                "\n",
                "@author: Marco César Prado Soares, MSc. Especialista Lean Six Sigma Master Black Belt, Eng. Químico, MSc. Eng. Mecatrônica (instrumentação) [Marco.Soares@br.ey.com](mailto:&#77;&#97;&#x72;&#x63;&#111;&#46;&#x53;&#111;&#97;&#114;&#101;&#x73;&#x40;&#98;&#x72;&#x2e;&#x65;&#121;&#46;&#99;&#111;&#109;); [marcosoares.feq@gmail.com](mailto:&#x6d;&#x61;&#114;&#99;&#111;&#115;&#x6f;&#97;&#114;&#101;&#x73;&#x2e;&#x66;&#101;&#113;&#64;&#103;&#109;&#97;&#x69;&#x6c;&#46;&#x63;&#x6f;&#109;)"
            ],
            "metadata": {
                "azdata_cell_guid": "71a4818e-14ee-4f75-bf6d-2258c65c2822"
            },
            "attachments": {}
        },
        {
            "cell_type": "markdown",
            "source": [
                "**Extração simplificada de múltiplas tabelas de arquivos xlsx, e arquivos xml, html e json**\n",
                "\n",
                "\\- Estes e outros exemplos estão disponíveis na página do pacote petl:\n",
                "\n",
                "https://petl.readthedocs.io/en/stable/io.html#extract-read"
            ],
            "metadata": {
                "azdata_cell_guid": "83c09d06-7a8d-473d-832d-6f8dd389f23c"
            },
            "attachments": {}
        },
        {
            "cell_type": "markdown",
            "source": [
                "## Excel .xlsx files (openpyxl)\n",
                "\n",
                "The following functions require [openpyxl](https://bitbucket.org/ericgazoni/openpyxl/wiki/Home) to be installed, e.g.:\n",
                "\n",
                "```\n",
                "$ pip install openpyxl\n",
                "```"
            ],
            "metadata": {
                "azdata_cell_guid": "29a8cdc9-ea56-4342-8f1c-b37827c95290"
            },
            "attachments": {}
        },
        {
            "cell_type": "markdown",
            "source": [
                "`petl.io.xlsx.``fromxlsx`(_filename_, _sheet=None_, _range\\_string=None_, _min\\_row=None_, _min\\_col=None_, _max\\_row=None_, _max\\_col=None_, _read\\_only=False_, _\\*\\*kwargs_)[](https://petl.readthedocs.io/en/stable/io.html#petl.io.xlsx.fromxlsx)\n",
                "\n",
                "Extract a table from a sheet in an Excel .xlsx file.\n",
                "\n",
                "N.B., the sheet name is case sensitive.\n",
                "\n",
                "The sheet argument can be omitted, in which case the first sheet in the workbook is used by default.\n",
                "\n",
                "The range\\_string argument can be used to provide a range string specifying a range of cells to extract.\n",
                "\n",
                "The min\\_row, min\\_col, max\\_row and max\\_col arguments can be used to limit the range of cells to extract. They will be ignored if range\\_string is provided.\n",
                "\n",
                "The read\\_only argument determines how openpyxl returns the loaded workbook. Default is False as it prevents some LibreOffice files from getting truncated at 65536 rows. True should be faster if the file use is read-only and the files are made with Microsoft Excel.\n",
                "\n",
                "Any other keyword arguments are passed through to `openpyxl.load_workbook()`."
            ],
            "metadata": {
                "azdata_cell_guid": "f2f57202-460f-4fae-810a-102d9c6a6985"
            },
            "attachments": {}
        },
        {
            "cell_type": "code",
            "source": [
                "import petl as etl\r\n",
                "# Pacote otimizado para extração deste tipo de documento\r\n",
                "from etl import io"
            ],
            "metadata": {
                "azdata_cell_guid": "7d445cb7-da64-4ef6-a44e-4052b28a6018"
            },
            "outputs": [],
            "execution_count": null
        },
        {
            "cell_type": "code",
            "source": [
                "etl.io.xlsx.fromxlsx(filename, sheet=None, range_string=None, min_row=None, min_col=None, max_row=None, max_col=None, read_only=False)"
            ],
            "metadata": {
                "azdata_cell_guid": "83481090-5380-4719-8b45-010b9a59d0e3"
            },
            "outputs": [],
            "execution_count": null
        },
        {
            "cell_type": "markdown",
            "source": [
                "`petl.io.xlsx.``toxlsx`(_tbl_, _filename_, _sheet=None_, _write\\_header=True_, _mode='replace'_)[](https://petl.readthedocs.io/en/stable/io.html#petl.io.xlsx.toxlsx)\n",
                "\n",
                "Write a table to a new Excel .xlsx file.\n",
                "\n",
                "N.B., the sheet name is case sensitive.\n",
                "\n",
                "The mode argument controls how the file and sheet are treated:\n",
                "\n",
                "> - replace: This is the default. It either replaces or adds a named sheet, or if no sheet name is provided, all sheets (overwrites the entire file).\n",
                "> - overwrite: Always overwrites the file. This produces a file with a single sheet.\n",
                "> - add: Adds a new sheet. Raises ValueError if a named sheet already exists.\n",
                "\n",
                "The sheet argument can be omitted in all cases. The new sheet will then get a default name. If the file does not exist, it will be created, unless replace mode is used with a named sheet. In the latter case, the file must exist and be a valid .xlsx file."
            ],
            "metadata": {
                "azdata_cell_guid": "d9970631-3186-45ca-b3bd-ca4ac32f6996"
            },
            "attachments": {}
        },
        {
            "cell_type": "code",
            "source": [
                "import petl as etl\r\n",
                "# Pacote otimizado para extração deste tipo de documento\r\n",
                "from etl import io"
            ],
            "metadata": {
                "azdata_cell_guid": "6a1b66e8-aeaf-4d6c-8ed7-68de6cae7bce",
                "tags": []
            },
            "outputs": [],
            "execution_count": null
        },
        {
            "cell_type": "code",
            "source": [
                "etl.io.xlsx.toxlsx(tbl, filename, sheet=None, write_header=True, mode='replace')"
            ],
            "metadata": {
                "azdata_cell_guid": "6a2d288f-89cf-4805-a583-90d7d8487ba2"
            },
            "outputs": [],
            "execution_count": null
        },
        {
            "cell_type": "markdown",
            "source": [
                "`petl.io.xlsx.``appendxlsx`(_tbl_, _filename_, _sheet=None_, _write\\_header=False_)[](https://petl.readthedocs.io/en/stable/io.html#petl.io.xlsx.appendxlsx)\n",
                "\n",
                "Appends rows to an existing Excel .xlsx file."
            ],
            "metadata": {
                "azdata_cell_guid": "45cf1fe8-4129-4940-a439-0a706eafcf79"
            },
            "attachments": {}
        },
        {
            "cell_type": "code",
            "source": [
                "import petl as etl\r\n",
                "# Pacote otimizado para extração deste tipo de documento\r\n",
                "from etl import io"
            ],
            "metadata": {
                "azdata_cell_guid": "c1dd782f-b38b-4de6-832f-f9266c6ffd46"
            },
            "outputs": [],
            "execution_count": null
        },
        {
            "cell_type": "code",
            "source": [
                "etl.io.xlsx.appendxlsx(tbl, filename, sheet=None, write_header=False)"
            ],
            "metadata": {
                "azdata_cell_guid": "4c3c3a5e-69d3-425e-bd96-b2e0410470f5"
            },
            "outputs": [],
            "execution_count": null
        },
        {
            "cell_type": "markdown",
            "source": [
                "## XML files[](https://petl.readthedocs.io/en/stable/io.html#xml-files)\n",
                "\n",
                "`petl.io.xml.``fromxml`(_source_, _\\*args_, _\\*\\*kwargs_)[<span class=\"viewcode-link\" style=\"box-sizing: border-box; display: inline-block; color: rgb(39, 174, 96); font-size: 11.52px; padding-left: 24px;\">[source]</span>](https://petl.readthedocs.io/en/stable/_modules/petl/io/xml.html#fromxml)[](https://petl.readthedocs.io/en/stable/io.html#petl.io.xml.fromxml)\n",
                "\n",
                "Extract data from an XML file. E.g.:"
            ],
            "metadata": {
                "azdata_cell_guid": "2d2164a3-98d5-4217-8ef3-4325c654cbc6"
            },
            "attachments": {}
        },
        {
            "cell_type": "code",
            "source": [
                "import petl as etl\r\n",
                "# Pacote otimizado para extração deste tipo de documento"
            ],
            "metadata": {
                "azdata_cell_guid": "6544993c-e43f-4351-b04e-9b455a6d63df"
            },
            "outputs": [],
            "execution_count": null
        },
        {
            "cell_type": "code",
            "source": [
                "# setup a file to demonstrate with\r\n",
                "d = '''<table>\r\n",
                "     <tr>\r\n",
                "         <td>foo</td><td>bar</td>\r\n",
                "     </tr>\r\n",
                "     <tr>\r\n",
                "         <td>a</td><td>1</td>\r\n",
                "     </tr>\r\n",
                "     <tr>\r\n",
                "         <td>b</td><td>2</td>\r\n",
                "     </tr>\r\n",
                "     <tr>\r\n",
                "         <td>c</td><td>2</td>\r\n",
                "     </tr>\r\n",
                " </table>'''\r\n",
                "with open('example1.xml', 'w') as f:\r\n",
                "     f.write(d"
            ],
            "metadata": {
                "azdata_cell_guid": "47617ae1-000e-4983-bada-477b4e5dd4fd"
            },
            "outputs": [],
            "execution_count": null
        },
        {
            "cell_type": "markdown",
            "source": [
                "Note que foi criado um arquivo XML apenas para teste. Substitua este arquivo por um desejado."
            ],
            "metadata": {
                "azdata_cell_guid": "e71d9691-1c6c-4da2-8153-235f86b0cd8c"
            },
            "attachments": {}
        },
        {
            "cell_type": "code",
            "source": [
                "table1 = etl.fromxml('example1.xml', 'tr', 'td')\r\n",
                "table1\r\n",
                "\r\n",
                "#table1 limpa o arquivo XML e armazena os resultados como um dataframe com as características desejadas."
            ],
            "metadata": {
                "azdata_cell_guid": "08b2e59d-5f12-433a-83bb-36f2efcbf619"
            },
            "outputs": [],
            "execution_count": null
        },
        {
            "cell_type": "markdown",
            "source": [
                "A saída será a seguinte:\n",
                "\n",
                "```\n",
                "+-----+-----+\n",
                "| foo | bar |\n",
                "+=====+=====+\n",
                "| 'a' | '1' |\n",
                "+-----+-----+\n",
                "| 'b' | '2' |\n",
                "+-----+-----+\n",
                "| 'c' | '2' |\n",
                "+-----+-----+\n",
                "```"
            ],
            "metadata": {
                "azdata_cell_guid": "f3781127-c2a8-4871-b338-2ff172c2dddd"
            },
            "attachments": {}
        },
        {
            "cell_type": "markdown",
            "source": [
                "<span style=\"color: rgb(64, 64, 64); font-family: Lato, proxima-nova, &quot;Helvetica Neue&quot;, Arial, sans-serif; font-size: 16px;\"><b style=\"background-color: yellow;\">If the data values are stored in an attribute</b><span style=\"background-color: rgb(252, 252, 252);\">, provide the attribute name as an extra positional argument:</span></span>"
            ],
            "metadata": {
                "azdata_cell_guid": "b3e2fb0b-7be1-455b-94f0-fad92b260a46"
            },
            "attachments": {}
        },
        {
            "cell_type": "code",
            "source": [
                "#CRIAÇÃO DO ARQUIVO XML USADO COMO EXEMPLO:\r\n",
                "\r\n",
                "d = '''<table>\r\n",
                "     <tr>\r\n",
                "         <td v='foo'/><td v='bar'/>\r\n",
                "     </tr>\r\n",
                "     <tr>\r\n",
                "         <td v='a'/><td v='1'/>\r\n",
                "     </tr>\r\n",
                "     <tr>\r\n",
                "         <td v='b'/><td v='2'/>\r\n",
                "     </tr>\r\n",
                "     <tr>\r\n",
                "         <td v='c'/><td v='2'/>\r\n",
                "     </tr>\r\n",
                " </table>'''\r\n",
                "with open('example2.xml', 'w') as f:\r\n",
                "     f.write(d)"
            ],
            "metadata": {
                "azdata_cell_guid": "057d5798-07f9-4303-bdab-1af3f6815224"
            },
            "outputs": [],
            "execution_count": null
        },
        {
            "cell_type": "code",
            "source": [
                "table2 = etl.fromxml('example2.xml', 'tr', 'td', 'v')\r\n",
                "table2"
            ],
            "metadata": {
                "azdata_cell_guid": "2fbdda7b-ddcd-456d-9894-ae7aec191ce8"
            },
            "outputs": [],
            "execution_count": null
        },
        {
            "cell_type": "markdown",
            "source": [
                "Aqui, a saída será a seguinte:\n",
                "\n",
                "```\n",
                "+-----+-----+\n",
                "| foo | bar |\n",
                "+=====+=====+\n",
                "| 'a' | '1' |\n",
                "+-----+-----+\n",
                "| 'b' | '2' |\n",
                "+-----+-----+\n",
                "| 'c' | '2' |\n",
                "+-----+-----+\n",
                "```"
            ],
            "metadata": {
                "azdata_cell_guid": "dc209274-2d7a-4f1c-b597-a561c2247ca6"
            },
            "attachments": {}
        },
        {
            "cell_type": "markdown",
            "source": [
                "<span style=\"color: rgb(64, 64, 64); font-family: Lato, proxima-nova, &quot;Helvetica Neue&quot;, Arial, sans-serif; font-size: 16px;\"><span style=\"background-color: rgb(252, 252, 252);\">Data values can also be extracted by </span><b style=\"background-color: yellow;\">providing a mapping of field names to element paths</b><span style=\"background-color: rgb(252, 252, 252);\">:</span></span>"
            ],
            "metadata": {
                "azdata_cell_guid": "1a813c3d-ad8d-4356-91fb-119cbf44fd68"
            },
            "attachments": {}
        },
        {
            "cell_type": "code",
            "source": [
                "#CRIAÇÃO DO ARQUIVO XML USADO COMO EXEMPLO:\r\n",
                "\r\n",
                "d = '''<table>\r\n",
                "     <row>\r\n",
                "         <foo>a</foo><baz><bar v='1'/><bar v='3'/></baz>\r\n",
                "     </row>\r\n",
                "     <row>\r\n",
                "         <foo>b</foo><baz><bar v='2'/></baz>\r\n",
                "     </row>\r\n",
                "     <row>\r\n",
                "         <foo>c</foo><baz><bar v='2'/></baz>\r\n",
                "     </row>\r\n",
                " </table>'''\r\n",
                "with open('example3.xml', 'w') as f:\r\n",
                "     f.write(d)"
            ],
            "metadata": {
                "azdata_cell_guid": "aaf154e2-60b5-403f-98d6-15154edfb251"
            },
            "outputs": [],
            "execution_count": null
        },
        {
            "cell_type": "code",
            "source": [
                "table3 = etl.fromxml('example3.xml', 'row', {'foo': 'foo', 'bar': ('baz/bar', 'v')})\r\n",
                "table3"
            ],
            "metadata": {
                "azdata_cell_guid": "ce6aaac7-cacc-4bb4-bf17-bfa85419f048",
                "tags": []
            },
            "outputs": [],
            "execution_count": null
        },
        {
            "cell_type": "markdown",
            "source": [
                "A saída será:\n",
                "\n",
                "```\n",
                "+------------+-----+\n",
                "| bar        | foo |\n",
                "+============+=====+\n",
                "| ('1', '3') | 'a' |\n",
                "+------------+-----+\n",
                "| '2'        | 'b' |\n",
                "+------------+-----+\n",
                "| '2'        | 'c' |\n",
                "+------------+-----+\n",
                "```"
            ],
            "metadata": {
                "azdata_cell_guid": "5d51c182-0a5e-48c3-9b5b-c1f161ef04ee"
            },
            "attachments": {}
        },
        {
            "cell_type": "markdown",
            "source": [
                "## HTML files\n",
                "\n",
                "<span style=\"color: rgb(64, 64, 64); font-family: Lato, proxima-nova, &quot;Helvetica Neue&quot;, Arial, sans-serif; font-size: 16px; background-color: rgb(252, 252, 252);\">Return a table that writes rows to a Unicode HTML file as they are iterated over.</span>\n",
                "\n",
                "`petl.io.html.``teehtml`<span class=\"sig-paren\" style=\"box-sizing: border-box; color: rgb(41, 128, 185); font-family: Lato, proxima-nova, &quot;Helvetica Neue&quot;, Arial, sans-serif; font-size: 14.4px; font-weight: 700;\">(</span>_table_<span style=\"color: rgb(41, 128, 185); font-family: Lato, proxima-nova, &quot;Helvetica Neue&quot;, Arial, sans-serif; font-size: 14.4px; font-weight: 700; background-color: rgb(231, 242, 250);\">,&nbsp;</span> _source=None_<span style=\"color: rgb(41, 128, 185); font-family: Lato, proxima-nova, &quot;Helvetica Neue&quot;, Arial, sans-serif; font-size: 14.4px; font-weight: 700; background-color: rgb(231, 242, 250);\">,&nbsp;</span> _encoding=None_<span style=\"color: rgb(41, 128, 185); font-family: Lato, proxima-nova, &quot;Helvetica Neue&quot;, Arial, sans-serif; font-size: 14.4px; font-weight: 700; background-color: rgb(231, 242, 250);\">,&nbsp;</span> _errors='strict'_<span style=\"color: rgb(41, 128, 185); font-family: Lato, proxima-nova, &quot;Helvetica Neue&quot;, Arial, sans-serif; font-size: 14.4px; font-weight: 700; background-color: rgb(231, 242, 250);\">,&nbsp;</span> _caption=None_<span style=\"color: rgb(41, 128, 185); font-family: Lato, proxima-nova, &quot;Helvetica Neue&quot;, Arial, sans-serif; font-size: 14.4px; font-weight: 700; background-color: rgb(231, 242, 250);\">,&nbsp;</span> _vrepr=\\<class 'str'\\>_<span style=\"color: rgb(41, 128, 185); font-family: Lato, proxima-nova, &quot;Helvetica Neue&quot;, Arial, sans-serif; font-size: 14.4px; font-weight: 700; background-color: rgb(231, 242, 250);\">,&nbsp;</span> _lineterminator='\\\\n'_<span style=\"color: rgb(41, 128, 185); font-family: Lato, proxima-nova, &quot;Helvetica Neue&quot;, Arial, sans-serif; font-size: 14.4px; font-weight: 700; background-color: rgb(231, 242, 250);\">,&nbsp;</span> _index\\_header=False_<span style=\"color: rgb(41, 128, 185); font-family: Lato, proxima-nova, &quot;Helvetica Neue&quot;, Arial, sans-serif; font-size: 14.4px; font-weight: 700; background-color: rgb(231, 242, 250);\">,&nbsp;</span> _tr\\_style=None_<span style=\"color: rgb(41, 128, 185); font-family: Lato, proxima-nova, &quot;Helvetica Neue&quot;, Arial, sans-serif; font-size: 14.4px; font-weight: 700; background-color: rgb(231, 242, 250);\">,&nbsp;</span> _td\\_styles=None_<span style=\"color: rgb(41, 128, 185); font-family: Lato, proxima-nova, &quot;Helvetica Neue&quot;, Arial, sans-serif; font-size: 14.4px; font-weight: 700; background-color: rgb(231, 242, 250);\">,&nbsp;</span> _truncate=None_<span class=\"sig-paren\" style=\"box-sizing: border-box; color: rgb(41, 128, 185); font-family: Lato, proxima-nova, &quot;Helvetica Neue&quot;, Arial, sans-serif; font-size: 14.4px; font-weight: 700;\">)</span><span style=\"color: rgb(64, 64, 64); font-family: Lato, proxima-nova, &quot;Helvetica Neue&quot;, Arial, sans-serif; font-size: 16px; background-color: rgb(252, 252, 252);\"><br></span>"
            ],
            "metadata": {
                "azdata_cell_guid": "d85cf49e-0094-4491-b33a-4614db111d78"
            },
            "attachments": {}
        },
        {
            "cell_type": "code",
            "source": [
                "import petl as etl\r\n",
                "# Pacote otimizado para extração deste tipo de documento\r\n",
                "from etl import io"
            ],
            "metadata": {
                "azdata_cell_guid": "87a5bc7e-e9ee-47c3-987b-b32afe830f02"
            },
            "outputs": [],
            "execution_count": null
        },
        {
            "cell_type": "code",
            "source": [
                "etl.io.html.teehtml(table, source=None, encoding=None, errors='strict', caption=None, vrepr=<class 'str'>, lineterminator='\\n', index_header=False, tr_style=None, td_styles=None, truncate=None)"
            ],
            "metadata": {
                "azdata_cell_guid": "3c84157c-ac88-4f0b-b4dc-2d4f92d61cbe"
            },
            "outputs": [],
            "execution_count": null
        },
        {
            "cell_type": "markdown",
            "source": [
                "## JSON files[](https://petl.readthedocs.io/en/stable/io.html#json-files)\n",
                "\n",
                "`petl.io.json.``fromjson`(_source_, _\\*args_, _\\*\\*kwargs_)[<span class=\"viewcode-link\" style=\"box-sizing: border-box; display: inline-block; color: rgb(39, 174, 96); font-size: 11.52px; padding-left: 24px;\">[source]</span>](https://petl.readthedocs.io/en/stable/_modules/petl/io/json.html#fromjson)[](https://petl.readthedocs.io/en/stable/io.html#petl.io.json.fromjson)\n",
                "\n",
                "Extract data from a JSON file. The file must contain a JSON array as the top level object, and each member of the array will be treated as a row of data"
            ],
            "metadata": {
                "azdata_cell_guid": "a2efe37f-ce2d-4d05-8be2-4ff9ed6913aa"
            },
            "attachments": {}
        },
        {
            "cell_type": "code",
            "source": [
                "import petl as etl\r\n",
                "# Pacote otimizado para extração deste tipo de documento"
            ],
            "metadata": {
                "azdata_cell_guid": "bbadfc42-2595-4de2-b079-5f8af1423ffe"
            },
            "outputs": [],
            "execution_count": null
        },
        {
            "cell_type": "code",
            "source": [
                "#CRIAÇÃO DO ARQUIVO JSON USADO COMO EXEMPLO:\r\n",
                "\r\n",
                "data = '''\r\n",
                " [{\"foo\": \"a\", \"bar\": 1},\r\n",
                " {\"foo\": \"b\", \"bar\": 2},\r\n",
                " {\"foo\": \"c\", \"bar\": 2}]\r\n",
                " '''\r\n",
                "with open('example.json', 'w') as f:\r\n",
                "     f.write(data)"
            ],
            "metadata": {
                "azdata_cell_guid": "75d81a19-40de-49b1-bc1d-273009253d6c"
            },
            "outputs": [],
            "execution_count": null
        },
        {
            "cell_type": "code",
            "source": [
                "table1 = etl.fromjson('example.json', header=['foo', 'bar'])\r\n",
                "table1"
            ],
            "metadata": {
                "azdata_cell_guid": "38a01493-5cc3-4b43-ae69-33b20d793f5f"
            },
            "outputs": [],
            "execution_count": null
        },
        {
            "cell_type": "markdown",
            "source": [
                "A saída deste exemplo é mostrada a seguir:\n",
                "\n",
                "```\n",
                "+-----+-----+\n",
                "| foo | bar |\n",
                "+=====+=====+\n",
                "| 'a' |   1 |\n",
                "+-----+-----+\n",
                "| 'b' |   2 |\n",
                "+-----+-----+\n",
                "| 'c' |   2 |\n",
                "+-----+-----+\n",
                "```"
            ],
            "metadata": {
                "azdata_cell_guid": "bea2bccb-2233-47aa-8e78-0e4af716d4b0"
            },
            "attachments": {}
        },
        {
            "cell_type": "markdown",
            "source": [
                "<span style=\"color: rgb(64, 64, 64); font-family: Lato, proxima-nova, &quot;Helvetica Neue&quot;, Arial, sans-serif; font-size: 16px; background-color: rgb(252, 252, 252);\">Setting argument&nbsp;</span> lines <span style=\"color: rgb(64, 64, 64); font-family: Lato, proxima-nova, &quot;Helvetica Neue&quot;, Arial, sans-serif; font-size: 16px; background-color: rgb(252, 252, 252);\">&nbsp;to&nbsp;</span> True <span style=\"color: rgb(64, 64, 64); font-family: Lato, proxima-nova, &quot;Helvetica Neue&quot;, Arial, sans-serif; font-size: 16px; background-color: rgb(252, 252, 252);\">&nbsp;will enable to infer the document as a JSON lines document. For more details about JSON lines please visit&nbsp;</span> [https://jsonlines.org/](https://jsonlines.org/)<span style=\"color: rgb(64, 64, 64); font-family: Lato, proxima-nova, &quot;Helvetica Neue&quot;, Arial, sans-serif; font-size: 16px; background-color: rgb(252, 252, 252);\">.</span>"
            ],
            "metadata": {
                "azdata_cell_guid": "e781a5f5-32ba-4ead-a6ae-b7eec00f0dac"
            },
            "attachments": {}
        },
        {
            "cell_type": "code",
            "source": [
                "import petl as etl\r\n",
                "# Pacote otimizado para extração deste tipo de documento"
            ],
            "metadata": {
                "azdata_cell_guid": "4f326863-3720-47d0-9c54-26945eb0e622"
            },
            "outputs": [],
            "execution_count": null
        },
        {
            "cell_type": "code",
            "source": [
                "#CRIAÇÃO DO ARQUIVO JSON USADO COMO EXEMPLO:\r\n",
                "\r\n",
                "data_with_jlines = '''{\"name\": \"Gilbert\", \"wins\": [[\"straight\", \"7S\"], [\"one pair\", \"10H\"]]}\r\n",
                " {\"name\": \"Alexa\", \"wins\": [[\"two pair\", \"4S\"], [\"two pair\", \"9S\"]]}\r\n",
                " {\"name\": \"May\", \"wins\": []}\r\n",
                " {\"name\": \"Deloise\", \"wins\": [[\"three of a kind\", \"5S\"]]}'''\r\n",
                "\r\n",
                "with open('example2.json', 'w') as f:\r\n",
                "     f.write(data_with_jlines)"
            ],
            "metadata": {
                "azdata_cell_guid": "ea9b1c14-4780-4567-a2ea-727e19c8fc5c"
            },
            "outputs": [],
            "execution_count": null
        },
        {
            "cell_type": "code",
            "source": [
                "table2 = etl.fromjson('example2.json', lines=True)\r\n",
                "table2"
            ],
            "metadata": {
                "azdata_cell_guid": "9a06e744-9fbc-459a-99dc-4bb754788ba9"
            },
            "outputs": [],
            "execution_count": null
        },
        {
            "cell_type": "markdown",
            "source": [
                "A saída deste exemplo será:\n",
                "\n",
                "```\n",
                "+-----------+-------------------------------------------+\n",
                "| name      | wins                                      |\n",
                "+===========+===========================================+\n",
                "| 'Gilbert' | [['straight', '7S'], ['one pair', '10H']] |\n",
                "+-----------+-------------------------------------------+\n",
                "| 'Alexa'   | [['two pair', '4S'], ['two pair', '9S']]  |\n",
                "+-----------+-------------------------------------------+\n",
                "| 'May'     | []                                        |\n",
                "+-----------+-------------------------------------------+\n",
                "| 'Deloise' | [['three of a kind', '5S']]               |\n",
                "+-----------+-------------------------------------------+\n",
                "```"
            ],
            "metadata": {
                "azdata_cell_guid": "ff4bee3c-b90c-41cd-a6d1-c0871ffade81"
            },
            "attachments": {}
        },
        {
            "cell_type": "markdown",
            "source": [
                "If your JSON file does not fit this structure, you will need to parse it via `json.load()` and select the array to treat as the data, see also [`petl.io.json.fromdicts()`](https://petl.readthedocs.io/en/stable/io.html#petl.io.json.fromdicts).\n",
                "\n",
                "_Changed in version 1.1.0._\n",
                "\n",
                "If no header is specified, fields will be discovered by sampling keys from the first sample objects in source. The header will be constructed from keys in the order discovered. Note that this ordering may not be stable, and therefore it may be advisable to specify an explicit header or to use another function like [`petl.transform.headers.sortheader()`](https://petl.readthedocs.io/en/stable/transform.html#petl.transform.headers.sortheader) on the resulting table to guarantee stability."
            ],
            "metadata": {
                "azdata_cell_guid": "52e9e177-796d-421c-a077-e28d23407abe"
            },
            "attachments": {}
        }
    ]
}