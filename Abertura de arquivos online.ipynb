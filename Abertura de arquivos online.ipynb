{
 "cells": [
  {
   "cell_type": "markdown",
   "metadata": {},
   "source": [
    "# Instruções gerais\n",
    "\n",
    "Para executar uma CÉLULA, pressione o botão \"Run\" no topo, com a CÉLULA selecionada, ou pressione:\n",
    "    \n",
    "    Shift + Enter\n",
    "\n",
    "EXECUTE APENAS UMA CÉLULA POR VEZ\n",
    "\n",
    "-Caso deseje apagar a saída de uma célula carregada, mas não deseje carregar uma nova saída, vá à aba superior, escolha o ícone\n",
    "do teclado (open the command palette/ jupyter-notebook command group) e selecione clear cell output.\n",
    "\n",
    "@author: Marco César Prado Soares, MSc.\n",
    "Especialista Lean Six Sigma Master Black Belt, Eng. Químico, MSc. Eng. Mecatrônica (instrumentação) \n",
    "Marco.Soares@br.ey.com; marcosoares.feq@gmail.com"
   ]
  },
  {
   "cell_type": "markdown",
   "metadata": {
    "azdata_cell_guid": "3fa96805-c29d-4309-81d3-8bd4df6ba4ff"
   },
   "source": [
    "# Carregar arquivos disponibilizados online (Google Drive exige comandos especiais do Colab)"
   ]
  },
  {
   "cell_type": "markdown",
   "metadata": {
    "azdata_cell_guid": "ce238b37-bf78-4403-b7eb-28e49512b9d8"
   },
   "source": [
    "## **1\\. Arquivo CSV**"
   ]
  },
  {
   "cell_type": "code",
   "execution_count": null,
   "metadata": {
    "azdata_cell_guid": "85777096-aec4-4b5b-8152-bbf29678a25a"
   },
   "outputs": [],
   "source": [
    "import pandas"
   ]
  },
  {
   "cell_type": "code",
   "execution_count": null,
   "metadata": {
    "azdata_cell_guid": "4991207c-f6bf-4806-8781-ed54b93048d6",
    "tags": []
   },
   "outputs": [],
   "source": [
    "#Defina a URL a partir da qual o arquivo será baixado. Note no exemplo abaixo que a extensão .csv não precisa estar necessariamente presente na URL\n",
    "\n",
    "URL = \"https://ptax.bcb.gov.br/ptax_internet/consultaBoletim.do?method=gerarCSVFechamentoMoedaNoPeriodo&ChkMoeda=61&DATAINI=03/07/2021&DATAFIM=01/08/2021\"\n",
    "\n",
    "dataset = pd.read_csv(URL, header = None)\n",
    "#Utilize os comandos apropriados para ajustar os cabeçalhos e separadores"
   ]
  },
  {
   "cell_type": "markdown",
   "metadata": {
    "azdata_cell_guid": "9afedf22-106e-4016-8f5e-40def87588da"
   },
   "source": [
    "## 1.2. Modificar nomes das colunas"
   ]
  },
  {
   "cell_type": "code",
   "execution_count": null,
   "metadata": {
    "azdata_cell_guid": "107e8be6-ab6a-4f0f-a457-1ff5a5a72d97"
   },
   "outputs": [],
   "source": [
    "#1. Crie uma lista com os nomes das novas colunas\n",
    "column_names = ['coluna 1', 'coluna 2', 'coluna 3', 'coluna 4']\n",
    "\n",
    "#2. Modifique os nomes das colunas do dataframe\n",
    "dataset.columns = column_names\n",
    "\n",
    "#3. Verifique se os nomes estão corretos\n",
    "dataset.head()"
   ]
  },
  {
   "cell_type": "markdown",
   "metadata": {
    "azdata_cell_guid": "52d70c41-38af-4d43-8499-5f203d9d7ed0"
   },
   "source": [
    "## **2\\. Arquivos disponibilizados online em pasta compactada (.zip)**"
   ]
  },
  {
   "cell_type": "code",
   "execution_count": null,
   "metadata": {
    "azdata_cell_guid": "6a55dfa3-2227-44b8-9b60-f7b79246efde"
   },
   "outputs": [],
   "source": [
    "# 1. forneça o endereço da pasta compacta e o comando para descompactá-la\n",
    "\n",
    "!wget -c https://s3.amazonaws.com/content.udacity-data.com/nd089/Cat_Dog_data.zip\n",
    "!unzip -qq Cat_Dog_data.zip"
   ]
  },
  {
   "cell_type": "markdown",
   "metadata": {
    "azdata_cell_guid": "44a28896-3056-447c-9b2c-8f6b87314ac2"
   },
   "source": [
    "## 2.1. Data Preparation"
   ]
  },
  {
   "cell_type": "code",
   "execution_count": null,
   "metadata": {
    "azdata_cell_guid": "a8b7e0e1-4adf-4478-9a7a-0b38cea18e25"
   },
   "outputs": [],
   "source": [
    "import numpy as np\n",
    "import os\n",
    "import shutil\n",
    "from os import listdir\n",
    "from os.path import isfile, join"
   ]
  },
  {
   "cell_type": "code",
   "execution_count": null,
   "metadata": {
    "azdata_cell_guid": "191c8d74-af19-451c-bdb1-704cd94b4421"
   },
   "outputs": [],
   "source": [
    "train_val_split = len(os.listdir(\"Cat_Dog_data/train/cat\")) // 4\n",
    "try:\n",
    "  os.mkdir(os.path.join(\"Cat_Dog_data\", 'validation'))\n",
    "except Exception:\n",
    "  pass\n",
    "try:\n",
    "  os.mkdir(os.path.join(\"Cat_Dog_data\", 'validation/cat'))\n",
    "except Exception:\n",
    "  pass\n",
    "try:\n",
    "  os.mkdir(os.path.join(\"Cat_Dog_data\", 'validation/dog'))\n",
    "except Exception:\n",
    "  pass\n",
    "# Print directory structure\n",
    "!find $\"Cat_Dog_data\" -type d -print\n",
    "# list all files in the cat directory \n",
    "onlyfiles = [f for f in listdir(\"Cat_Dog_data/train/cat\") if isfile(join(\"Cat_Dog_data/train/cat\", f))]\n",
    "print(len(onlyfiles))\n",
    "# copy the first 1/4 to validation\n",
    "for f in onlyfiles[:train_val_split]:\n",
    "  shutil.move(os.path.join(\"Cat_Dog_data/train/cat\", f), 'Cat_Dog_data/validation/cat')\n",
    "# list all files in the cat directory \n",
    "onlyfiles = [f for f in listdir(\"Cat_Dog_data/train/dog\") if isfile(join(\"Cat_Dog_data/train/dog\", f))]\n",
    "print(len(onlyfiles))\n",
    "# copy the first 1/4 to validation\n",
    "for f in onlyfiles[:train_val_split]:\n",
    "  shutil.move(os.path.join(\"Cat_Dog_data/train/dog\", f), 'Cat_Dog_data/validation/dog')\n",
    "print(\"# cat val\", len(os.listdir(\"Cat_Dog_data/validation/cat\")))\n",
    "print(\"# cat train\", len(os.listdir(\"Cat_Dog_data/train/cat\")))\n",
    "print(\"# dog val\", len(os.listdir(\"Cat_Dog_data/validation/dog\")))\n",
    "print(\"# dog train\", len(os.listdir(\"Cat_Dog_data/train/dog\")))"
   ]
  },
  {
   "cell_type": "code",
   "execution_count": null,
   "metadata": {
    "azdata_cell_guid": "6e93a7f4-5228-4bd3-9c19-82797d3b7525"
   },
   "outputs": [],
   "source": [
    "base_dir = \"Cat_Dog_data\"\n",
    "\n",
    "train_dir = os.path.join(base_dir, 'train')\n",
    "validation_dir = os.path.join(base_dir, 'validation')\n",
    "\n",
    "train_cats_dir = os.path.join(train_dir, 'cat')  # directory with our training cat pictures\n",
    "train_dogs_dir = os.path.join(train_dir, 'dog')  # directory with our training dog pictures\n",
    "validation_cats_dir = os.path.join(validation_dir, 'cat')  # directory with our validation cat pictures\n",
    "validation_dogs_dir = os.path.join(validation_dir, 'dog')  # directory with our validation dog pictures\n",
    "num_cats_tr = len(os.listdir(train_cats_dir))\n",
    "num_dogs_tr = len(os.listdir(train_dogs_dir))\n",
    "\n",
    "num_cats_val = len(os.listdir(validation_cats_dir))\n",
    "num_dogs_val = len(os.listdir(validation_dogs_dir))\n",
    "\n",
    "total_train = num_cats_tr + num_dogs_tr\n",
    "total_val = num_cats_val + num_dogs_val"
   ]
  },
  {
   "cell_type": "markdown",
   "metadata": {
    "azdata_cell_guid": "8271a9f5-6030-452f-a661-f144821249a2"
   },
   "source": [
    "## **3\\. Arquivo de imagem**"
   ]
  },
  {
   "cell_type": "code",
   "execution_count": null,
   "metadata": {
    "azdata_cell_guid": "1ba41b2c-e1eb-49c2-aa1b-69b2e02c4d68"
   },
   "outputs": [],
   "source": [
    "URL = \"https://tfhub.dev/google/tf2-preview/mobilenet_v2/feature_vector/2\"\n",
    "feature_extractor = hub.KerasLayer(URL, input_shape=(IMAGE_RES, IMAGE_RES,3))"
   ]
  }
 ],
 "metadata": {
  "kernelspec": {
   "display_name": "Python 3",
   "language": "python",
   "name": "python3"
  },
  "language_info": {
   "codemirror_mode": {
    "name": "ipython",
    "version": 3
   },
   "file_extension": ".py",
   "mimetype": "text/x-python",
   "name": "python",
   "nbconvert_exporter": "python",
   "pygments_lexer": "ipython3",
   "version": "3.8.5"
  }
 },
 "nbformat": 4,
 "nbformat_minor": 2
}
