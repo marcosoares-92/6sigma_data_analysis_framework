{
    "metadata": {
        "kernelspec": {
            "name": "python3",
            "display_name": "Python 3 (ipykernel)",
            "language": "python"
        },
        "language_info": {
            "name": "python",
            "version": "3.8.10",
            "mimetype": "text/x-python",
            "codemirror_mode": {
                "name": "ipython",
                "version": 3
            },
            "pygments_lexer": "ipython3",
            "nbconvert_exporter": "python",
            "file_extension": ".py"
        }
    },
    "nbformat_minor": 2,
    "nbformat": 4,
    "cells": [
        {
            "cell_type": "markdown",
            "source": [
                "# Instruções gerais\n",
                "\n",
                "Para executar uma CÉLULA, pressione o botão \"Run\" no topo, com a CÉLULA selecionada, ou pressione:\n",
                "\n",
                "```\n",
                "Shift + Enter\n",
                "```\n",
                "\n",
                "EXECUTE APENAS UMA CÉLULA POR VEZ\n",
                "\n",
                "\\-Caso deseje apagar a saída de uma célula carregada, mas não deseje carregar uma nova saída, vá à aba superior, escolha o ícone do teclado (open the command palette/ jupyter-notebook command group) e selecione clear cell output.\n",
                "\n",
                "@author: Marco César Prado Soares, MSc. Especialista Lean Six Sigma Master Black Belt, Eng. Químico, MSc. Eng. Mecatrônica (instrumentação) [Marco.Soares@br.ey.com](mailto:&#77;&#97;&#x72;&#x63;&#111;&#46;&#x53;&#111;&#97;&#114;&#101;&#x73;&#x40;&#98;&#x72;&#x2e;&#x65;&#121;&#46;&#99;&#111;&#109;); [marcosoares.feq@gmail.com](mailto:&#x6d;&#x61;&#114;&#99;&#111;&#115;&#x6f;&#97;&#114;&#101;&#x73;&#x2e;&#x66;&#101;&#113;&#64;&#103;&#109;&#97;&#x69;&#x6c;&#46;&#x63;&#x6f;&#109;)"
            ],
            "metadata": {
                "azdata_cell_guid": "8e062928-3ec5-4438-ab48-1d486bb5611e"
            },
            "attachments": {}
        },
        {
            "cell_type": "markdown",
            "source": [
                "**Ler arquivos PDF em Python**\n",
                "\n",
                "**1\\. Instale os seguintes pacotes:** \n",
                "\n",
                "```\n",
                "pip install PyPDF2\n",
                "```\n",
                "```\n",
                "pip install textract\n",
                "```"
            ],
            "metadata": {
                "azdata_cell_guid": "f847f10e-6d5e-45d1-8bbb-55025c23e7cf"
            },
            "attachments": {}
        },
        {
            "cell_type": "markdown",
            "source": [
                "**2\\. Ler o arquivo em PDF**"
            ],
            "metadata": {
                "azdata_cell_guid": "4b4c3485-19ce-4234-a34e-69f578379186"
            },
            "attachments": {}
        },
        {
            "cell_type": "code",
            "source": [
                "# importing all the required modules\r\n",
                "import PyPDF2\r\n",
                "\r\n",
                "# creating an object \r\n",
                "file = open('example.pdf', 'rb')\r\n",
                "\r\n",
                "# creating a pdf reader object\r\n",
                "fileReader = PyPDF2.PdfFileReader(file)\r\n",
                "\r\n",
                "# print the number of pages in pdf file\r\n",
                "print(fileReader.numPages)"
            ],
            "metadata": {
                "azdata_cell_guid": "25715d4e-76dc-486e-9a91-e1d5151fa9fb"
            },
            "outputs": [],
            "execution_count": null
        },
        {
            "cell_type": "markdown",
            "source": [
                "**3\\. Extrair informações textuais do arquivo**"
            ],
            "metadata": {
                "azdata_cell_guid": "44000858-f18d-44bd-8e52-031388aaa9db"
            },
            "attachments": {}
        },
        {
            "cell_type": "code",
            "source": [
                "import textract\r\n",
                "text = textract.process('path/to/pdf/file', method='pdfminer')"
            ],
            "metadata": {
                "azdata_cell_guid": "d4352360-8fad-47b7-9765-05acd436d8bb"
            },
            "outputs": [],
            "execution_count": null
        }
    ]
}