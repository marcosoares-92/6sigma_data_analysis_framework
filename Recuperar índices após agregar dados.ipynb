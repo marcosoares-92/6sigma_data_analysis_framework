{
 "cells": [
  {
   "cell_type": "code",
   "execution_count": null,
   "metadata": {
    "tags": [
     "CELL_1"
    ]
   },
   "outputs": [],
   "source": [
    "## Recuperar índices após agregar dados\n",
    "\n",
    "## CÉLULA 1: Instruções de carregamento do arquivo e bibliotecas a ser importadas\n",
    "\n",
    "\"\"\"\"\n",
    "    Para executar uma CÉLULA, pressione o botão \"Run\" no topo, com a CÉLULA selecionada, ou pressione:\n",
    "    \n",
    "    Shift + Enter\n",
    "\n",
    "-Se seus dados estiverem em um arquivo xlsx utilize a CÉLULA 2\n",
    "\n",
    "-Se seus dados estiverem em um arquivo csv contendo cabeçalhos, utilize a CÉLULA 3\n",
    "\n",
    "-Se seus dados estiverem em um arquivo csv sem cabeçalhos, utilize a CÉLULA 4\n",
    "\n",
    "-Utilize apenas a CÉLULA correta\n",
    "-Substitua o texto entre aspas na variável \"caminho\" pelo endereço do arquivo em sua máquina.\n",
    "\n",
    "EXECUTE ESTA CÉLULA ANTES DE PROSSEGUIR\n",
    "\n",
    "EXECUTE APENAS UMA CÉLULA POR VEZ\n",
    "\n",
    "-Caso deseje apagar a saída de uma célula carregada, mas não deseje carregar uma nova saída, vá à aba superior, escolha o ícone\n",
    "do teclado (open the command palette/ jupyter-notebook command group) e selecione clear cell output.\n",
    "\n",
    "@author: Marco César Prado Soares, MSc.\n",
    "Especialista Lean Six Sigma Master Black Belt, Eng. Químico, MSc. Eng. Mecatrônica (instrumentação) \n",
    "Marco.Soares@br.ey.com; marcosoares.feq@gmail.com\n",
    "\"\"\"\n",
    "import pandas as pd\n",
    "import numpy as np\n",
    "import matplotlib.pyplot as plt"
   ]
  },
  {
   "cell_type": "code",
   "execution_count": null,
   "metadata": {
    "tags": [
     "CELL_2"
    ]
   },
   "outputs": [],
   "source": [
    "## CÉLULA 2: dados em arquivo xlsx\n",
    "\n",
    "caminho = \"D:\\Drive\\FM2S\\EAD\\Green Belt em Python\\Machine Learning - módulo 2 - ANN regression\\ANN.1 - Apartment price analysis\\prices_apartments.xlsx\"\n",
    "dataset = pd.read_excel(caminho)\n",
    "\n",
    "dataset\n",
    "#SIGA PARA A CÉLULA 5"
   ]
  },
  {
   "cell_type": "code",
   "execution_count": null,
   "metadata": {
    "tags": [
     "CELL_3"
    ]
   },
   "outputs": [],
   "source": [
    "## CÉLULA 3: dados em arquivo csv com cabeçalho\n",
    "\n",
    "caminho = \"D:\\Drive\\FM2S\\EAD\\Green Belt em Python\\Machine Learning - módulo 3 - ANN classification\\ANN.Class - 2 - advertising campaign\\delivery_app_data.csv\"\n",
    "dataset = pd.read_csv(caminho)\n",
    "\n",
    "dataset\n",
    "#SIGA PARA A CÉLULA 5"
   ]
  },
  {
   "cell_type": "code",
   "execution_count": null,
   "metadata": {
    "tags": [
     "CELL_4"
    ]
   },
   "outputs": [],
   "source": [
    "## CÉLULA 4: dados em arquivo csv sem cabeçalho\n",
    "\n",
    "caminho = \"D:\\Drive\\FM2S\\EAD\\Green Belt em Python\\Machine Learning - módulo 2 - ANN regression\\ANN.4 - Boston housing price\\housing_boston_data.txt\"\n",
    "dataset = pd.read_csv(caminho, delim_whitespace=True, header=None)\n",
    "\n",
    "#here, the dataset is in a textfile. In these cases, use delim_withespace = True\n",
    "#or df = pd.read_fwf('output_list.txt')\n",
    "#since data has no Head, keep header = None\n",
    "#if there is Head, eliminate ‘header’ from the arguments of the function\n",
    "\n",
    "dataset\n",
    "#SIGA PARA A CÉLULA 5"
   ]
  },
  {
   "cell_type": "code",
   "execution_count": null,
   "metadata": {
    "tags": [
     "CELL_5"
    ]
   },
   "outputs": [],
   "source": [
    "## CÉLULA 5: Eliminar linhas com entradas nulas\n",
    "\n",
    "\"\"\"\n",
    "-Utilize este CÉLULA apenas se desejar limpar as entradas nulas da sua base de dados\n",
    "\n",
    "-Esta CÉLULA eliminará todas as linhas contendo entradas nulas. Caso NÃO DESEJE ISTO, vá direto à CÉLULA 6, sem executar esta\n",
    "célula.\n",
    "\"\"\"\n",
    "\n",
    "dataset = dataset.dropna(axis=0)\n",
    "dataset\n",
    "#SIGA PARA A CÉLULA 6"
   ]
  },
  {
   "cell_type": "markdown",
   "metadata": {
    "tags": [
     "CELL_6"
    ]
   },
   "source": [
    "# CÉLULA 6: Instruções Gerais\n",
    "\n",
    "### ATENÇÃO: NÃO EXECUTE ESTA CÉLULA - Ela contém apenas texto explicativo\n",
    "\n",
    "Função para recuperar índices após agregar os dados\n",
    "\n",
    "Instrução: esta função deve ser usada sempre que você agregar dados.\n",
    "\n",
    "Esta função retorna um dataframe de saída\n",
    "\n",
    "df = recuperar_indices(dataframe, nome_var_classificatoria, nome_var_y, indice_coluna_y)\n",
    "\n",
    "Exemplos: \n",
    "1. agregar em torno de uma variavel classificatoria, para construir o Pareto\n",
    "2. vários dados foram coletados para um mesmo dia, e você deseja agregar por dias para calcular a média dos dados a cada dia\n",
    "3. vários dados foram coletados por hora, e você deseja a média por hora\n",
    "\n",
    "Nestes casos, a variável em torno da qual se agrega os dados se torna o índice e não conseguimos manipular adequadamente o dataframe.\n",
    "\n",
    "Copie a função no começo do código ou rode direto deste script\n",
    "\n",
    "Siga para a CÉLULA 7.\n",
    "----------------------------------------"
   ]
  },
  {
   "cell_type": "code",
   "execution_count": null,
   "metadata": {
    "tags": [
     "CELL_7"
    ]
   },
   "outputs": [],
   "source": [
    "## CÉLULA 7: Função para recuperar índices após agregar dados\n",
    "\n",
    "#Execute esta CÉLULA para carregar a função\n",
    "\n",
    "def recuperar_indices(dataframe, nome_var_classificatoria, nome_var_y, indice_coluna_y):\n",
    "    import pandas as pd\n",
    "    nome1 = nome_var_classificatoria \n",
    "    #string com o nome da variavel x (nome da coluna)\n",
    "    nome2 = nome_var_y \n",
    "    #string com o nome da variavel y (nome da coluna)\n",
    "    j = indice_coluna_y\n",
    "    tamanho = len(dataframe) #quantidade de dados no dataframe\n",
    "    i = 0\n",
    "\n",
    "    #vamos criar uma lista vazia para armazenar os motivos (variaveis de texto)\n",
    "    #e retira los do indice\n",
    "    var_x = [] \n",
    "    #lista vazia do x - variavel em torno da qual se agrega os dados\n",
    "    #pode ser a variavel classificatoria, os dias, as horas \n",
    "    #(para avaliar media dos dias ou das horas)\n",
    "    var_y = []\n",
    "    #lista para guardar os valores y correspondentes\n",
    "    \n",
    "    while (i < tamanho):\n",
    "        var_x.append(dataframe.index[i])\n",
    "        #grava na lista vazia o motivo que foi para o indice\n",
    "        var_y.append(dataframe.iloc[i,j])\n",
    "        #temos que referenciar numericamente, na coluna zero\n",
    "        #O comando append grava em sequencia - cada append e uma nova linha\n",
    "        i = i + 1\n",
    "\n",
    "    #as listas gravam as informacoes necessarias para o pareto, por exemplo\n",
    "    #precisamos grava-las em um dataframe novo\n",
    "    d1 = {nome1: var_x, nome2: var_y}\n",
    "    #dicionario a partir das listas\n",
    "    df1 = pd.DataFrame(data = d1)\n",
    "    #novo dataframe organizado\n",
    "    \n",
    "    return df1"
   ]
  },
  {
   "cell_type": "code",
   "execution_count": null,
   "metadata": {
    "tags": [
     "CELL_8"
    ]
   },
   "outputs": [],
   "source": [
    "## CÉLULA 8: RECUPERAR OS ÍNDICES\n",
    "\n",
    "#FORNEÇA O NOME DO DATAFRAME QUE TEVE AS VARIÁVEIS AGREGADAS. Basta substituir a palavra dataset pelo nome \n",
    "#do dataframe\n",
    "\n",
    "dataframe = dataset\n",
    "\n",
    "#DEFINA O NOME DA VARIÁVEL CLASSIFICATÓRIA EM RELAÇÃO À QUAL OS DADOS FORAM AGREGADOS. \n",
    "#Basta substituir o valor entre aspas pelo nome da coluna\n",
    "\n",
    "nome_var_classificatoria = \"X\"\n",
    "\n",
    "#DEFINA O NOME DA VARIÁVEL Y, a função de agregação que descreverá a variável classificatória (e.g. soma, média, max, min, etc). \n",
    "#Basta substituir o valor entre aspas pelo nome da coluna\n",
    "#Esta é a única coluna que não precisa ser fornecida exatamente com o nome com o qual ela é mostrada no dataframe agregado.\n",
    "#Basta você fornecer aqui o nome com o qual deseja que a coluna seja mostrada\n",
    "\n",
    "nome_var_y = \"Y\"\n",
    "\n",
    "#FORNEÇA O ÍNDICE NUMÉRICO DA COLUNA Y. Lembre-se que a contagem começa em zero.\n",
    "#A função referencia a coluna Y pelo índice numérico, motivo pelo qual pode ser fornecido qualquer nome a esta coluna\n",
    "#Basta substituir o valor 2 pelo valor numérico da coluna que mostra a função de agregação desejada (sum, median, std, etc).\n",
    "\n",
    "indice_coluna_y = 2\n",
    "\n",
    "\n",
    "df = recuperar_indices(dataframe, nome_var_classificatoria, nome_var_y, indice_coluna_y)\n",
    "\n",
    "#df armazena o dataframe agregado com os índices corretos.\n",
    "\n",
    "df\n",
    "\n",
    "\"\"\"VOCÊ DESEJA EXPORTAR OS DADOS?\n",
    "Caso deseje exportar os dados, copie a seguinte linha para o espaço não-vermelho após as aspas. Substitua o endereço pela\n",
    "pasta onde você deseja salvar seu arquivo. Substitua dataframe_recuperado pelo nome que deseja para seu arquivo. Mantenha\n",
    "a extensão csv\n",
    "\n",
    "df.to_csv(r\"D:\\Drive\\FM2S\\EAD\\Green Belt em Python\\Machine Learning - módulo 3 - ANN classification\\ANN.Class - 1 - user satisfaction\\dataframe_recuperado.csv\", index = False)\n",
    "\n",
    "\"\"\""
   ]
  }
 ],
 "metadata": {
  "celltoolbar": "Tags",
  "kernelspec": {
   "display_name": "Python 3",
   "language": "python",
   "name": "python3"
  },
  "language_info": {
   "codemirror_mode": {
    "name": "ipython",
    "version": 3
   },
   "file_extension": ".py",
   "mimetype": "text/x-python",
   "name": "python",
   "nbconvert_exporter": "python",
   "pygments_lexer": "ipython3",
   "version": "3.8.5"
  }
 },
 "nbformat": 4,
 "nbformat_minor": 4
}
