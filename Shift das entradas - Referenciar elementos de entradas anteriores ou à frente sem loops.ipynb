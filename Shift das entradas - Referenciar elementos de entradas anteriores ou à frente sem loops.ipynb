{
    "metadata": {
        "kernelspec": {
            "name": "python3",
            "display_name": "Python 3 (ipykernel)",
            "language": "python"
        },
        "language_info": {
            "name": "python",
            "version": "3.8.10",
            "mimetype": "text/x-python",
            "codemirror_mode": {
                "name": "ipython",
                "version": 3
            },
            "pygments_lexer": "ipython3",
            "nbconvert_exporter": "python",
            "file_extension": ".py"
        }
    },
    "nbformat_minor": 2,
    "nbformat": 4,
    "cells": [
        {
            "cell_type": "markdown",
            "source": [
                "# Instruções gerais\n",
                "\n",
                "Para executar uma CÉLULA, pressione o botão \"Run\" no topo, com a CÉLULA selecionada, ou pressione:\n",
                "\n",
                "```\n",
                "Shift + Enter\n",
                "```\n",
                "\n",
                "EXECUTE APENAS UMA CÉLULA POR VEZ\n",
                "\n",
                "\\-Caso deseje apagar a saída de uma célula carregada, mas não deseje carregar uma nova saída, vá à aba superior, escolha o ícone do teclado (open the command palette/ jupyter-notebook command group) e selecione clear cell output.\n",
                "\n",
                "@author: Marco César Prado Soares, MSc. Especialista Lean Six Sigma Master Black Belt, Eng. Químico, MSc. Eng. Mecatrônica (instrumentação) [Marco.Soares@br.ey.com](mailto:&#77;&#97;&#x72;&#x63;&#111;&#46;&#x53;&#111;&#97;&#114;&#101;&#x73;&#x40;&#98;&#x72;&#x2e;&#x65;&#121;&#46;&#99;&#111;&#109;); [marcosoares.feq@gmail.com](mailto:&#x6d;&#x61;&#114;&#99;&#111;&#115;&#x6f;&#97;&#114;&#101;&#x73;&#x2e;&#x66;&#101;&#113;&#64;&#103;&#109;&#97;&#x69;&#x6c;&#46;&#x63;&#x6f;&#109;)"
            ],
            "metadata": {
                "azdata_cell_guid": "45013d3f-076c-4cc5-89b0-9900494828c4"
            },
            "attachments": {}
        },
        {
            "cell_type": "markdown",
            "source": [
                "**Referenciar elementos de entradas anteriores ou à frente sem loops**\n",
                "\n",
                "  \n",
                "\n",
                "Delays e adiantamentos em Python com o método .shift do Pandas"
            ],
            "metadata": {
                "azdata_cell_guid": "bc390464-dcb2-4815-9f50-330d3096fdbc"
            },
            "attachments": {}
        },
        {
            "cell_type": "markdown",
            "source": [
                "Pandas `**dataframe.shift()**` function Shift index by desired number of periods with an optional time freq. This function takes a scalar parameter called period, which represents the number of shifts to be made over the desired axis. This function is very helpful when dealing with time-series data.\n",
                "\n",
                "> **Syntax:**DataFrame.shift(periods=1, freq=None, axis=0)  \n",
                "> **Parameters :**  \n",
                "> **periods :** Number of periods to move, can be positive or negative  \n",
                "> **freq :** DateOffset, timedelta, or time rule string, optional Increment to use from the tseries module or time rule (e.g. ‘EOM’). See Notes  \n",
                "> **axis :** {0 or ‘index’, 1 or ‘columns’}\n",
                "> \n",
                "> **Return :** shifted : DataFrame\n",
                "\n",
                "**Example #1:** Use `shift()` function to shift the index axis by 2 periods in a time-series data"
            ],
            "metadata": {
                "azdata_cell_guid": "805b3b30-9f5e-4f00-9a90-cc2aa7aca547"
            },
            "attachments": {}
        },
        {
            "cell_type": "code",
            "source": [
                "# importing pandas as pd\r\n",
                "import pandas as pd\r\n",
                "   \r\n",
                "# Creating row index values for our data frame\r\n",
                "# We have taken time frequency to be of 12 hours interval\r\n",
                "# We are generating five index value using \"period = 5\" parameter\r\n",
                "   \r\n",
                "ind = pd.date_range('01 / 01 / 2000', periods = 5, freq ='12H')\r\n",
                "   \r\n",
                "# Creating a dataframe with 4 columns\r\n",
                "# using \"ind\" as the index for our dataframe\r\n",
                "df = pd.DataFrame({\"A\":[1, 2, 3, 4, 5], \r\n",
                "                   \"B\":[10, 20, 30, 40, 50],\r\n",
                "                   \"C\":[11, 22, 33, 44, 55],\r\n",
                "                   \"D\":[12, 24, 51, 36, 2]}, \r\n",
                "                    index = ind)\r\n",
                "  \r\n",
                "# Print the dataframe\r\n",
                "df"
            ],
            "metadata": {
                "azdata_cell_guid": "3b923665-4013-423d-b975-0a522e483434"
            },
            "outputs": [],
            "execution_count": null
        },
        {
            "cell_type": "markdown",
            "source": [
                "Neste exemplo, o método date\\_range é utilizado para criar índices expressos como timestamps. Cada período é criado como o timestamp anterior somado de 12 h. O primeiro timestamp será 01/01/2000. Como nenhuma hora foi especificada, a hora é tomada como 00:00:00.\n",
                "\n",
                "![](https://media.geeksforgeeks.org/wp-content/uploads/1-688.png)"
            ],
            "metadata": {
                "azdata_cell_guid": "a256982e-9611-4e90-9116-1ecf729ee14f"
            },
            "attachments": {}
        },
        {
            "cell_type": "markdown",
            "source": [
                "<span style=\"color: rgb(39, 50, 57); font-family: urw-din, sans-serif; font-size: 17px; letter-spacing: 0.162px; background-color: rgb(255, 255, 255);\">Lets use the&nbsp;</span> `dataframe.shift()` <span style=\"color: rgb(39, 50, 57); font-family: urw-din, sans-serif; font-size: 17px; letter-spacing: 0.162px; background-color: rgb(255, 255, 255);\">&nbsp;function to shift the index axis by 2 periods in positive direction</span>"
            ],
            "metadata": {
                "azdata_cell_guid": "bf210876-2fe5-4338-8900-c1d4f202968c"
            },
            "attachments": {}
        },
        {
            "cell_type": "code",
            "source": [
                "# shift index axis by two periods in positive direction\r\n",
                "# axis = 0 is set by default\r\n",
                "df.shift(2, axis = 0)"
            ],
            "metadata": {
                "azdata_cell_guid": "09775838-7d9e-44d3-a27e-5b636ff38355"
            },
            "outputs": [],
            "execution_count": null
        },
        {
            "cell_type": "markdown",
            "source": [
                "A saída do método shift é mostrada abaixo:\n",
                "\n",
                "![](https://media.geeksforgeeks.org/wp-content/uploads/1-689.png)\n",
                "\n",
                "Note que cada linha do dataframe original é transferida para duas linhas depois: **o valor positivo e igual a 2 dos periods aumenta em duas unidades o índice de cada entrada**.\n",
                "\n",
                "\\- Dito de outra forma, **quando shift é positivo e igual a x, cada linha passa a referenciar o valor que estava originalmente x linhas antes**. Se x = 2, o valor será um delay de 2 linhas (cada linha referencia 2 linhas antes).\n",
                "\n",
                "\\- **Isso possibilita acessar valores anteriores ou posteriores sem utilizar um método iterativo (loop)**, reduzindo o custo computacional.\n",
                "\n",
                "Assim, **a terceira linha passa a acessar os valores da 1ª linha, o que equivale a aumentar o índice da entrada 1 para 3.**"
            ],
            "metadata": {
                "azdata_cell_guid": "918cced3-82fd-442f-ab6d-f8eea56e26d5"
            },
            "attachments": {}
        },
        {
            "cell_type": "markdown",
            "source": [
                "**Example #2:** Use `shift()` function to shift the index axis by 2 periods in a time-series data\n",
                "\n",
                "  \n",
                "\n",
                "Vamos utilizar o **shift para que cada coluna acesse o valor que ocorre 2 linhas depois** (e não duas linhas antes, como no exemplo anterior).\n",
                "\n",
                "  \n",
                "\n",
                "\\- De outra forma, o shift fará com que cada linha passe a ter o índice 2 unidades menor. **Isto ocorre quando o argumento de .shit é menor que zero.**"
            ],
            "metadata": {
                "azdata_cell_guid": "b5aa22a2-896d-49b0-935c-071d745abd70"
            },
            "attachments": {}
        },
        {
            "cell_type": "code",
            "source": [
                "#Lets shift the index axis in negative direction by some periods\r\n",
                "\r\n",
                "# shift index axis by two periods in negative direction\r\n",
                "# axis = 0 is set by default\r\n",
                "df.shift(-2, axis = 0)"
            ],
            "metadata": {
                "azdata_cell_guid": "e70ac595-4034-4041-a9f0-8e240d9cc19a"
            },
            "outputs": [],
            "execution_count": null
        },
        {
            "cell_type": "markdown",
            "source": [
                "A saída é mostrada a seguir. Como esperado, o argumento -2 faz com que cada linha acesse o valor de 2 linhas depois (ou que o índice de cada linha diminua em 2 unidades). \n",
                "\n",
                "![](https://media.geeksforgeeks.org/wp-content/uploads/1-690.png)  \n",
                "\n",
                "Assim, **a primeira linha passa a acessar os valores da 3ª linha, o que equivale a reduzir o índice da entrada 3 para 1.**"
            ],
            "metadata": {
                "azdata_cell_guid": "70aedfc3-058b-41d5-a27e-5229fa623522"
            },
            "attachments": {}
        },
        {
            "cell_type": "markdown",
            "source": [
                "**Example #3:** <span style=\"color: rgb(39, 50, 57); font-family: urw-din, sans-serif; font-size: 17px; letter-spacing: 0.162px; background-color: rgb(255, 255, 255);\">&nbsp;Use&nbsp;</span> `shift()` <span style=\"color: rgb(39, 50, 57); font-family: urw-din, sans-serif; font-size: 17px; letter-spacing: 0.162px; background-color: rgb(255, 255, 255);\">&nbsp;function to shift the column axis by 2 periods in a time-series data</span>\n",
                "\n",
                "<span style=\"color: rgb(39, 50, 57); font-family: urw-din, sans-serif; font-size: 17px; letter-spacing: 0.162px; background-color: rgb(255, 255, 255);\">Neste exemplo, vamos utilizar o método .shift para deslocar não as linhas (entradas do dataframe), mas sim as colunas (variáveis). Como exemplo, vamos recriar novamente o dataframe:</span>"
            ],
            "metadata": {
                "azdata_cell_guid": "8aa25832-a23a-48a2-af1a-7b0733f6df65"
            },
            "attachments": {}
        },
        {
            "cell_type": "code",
            "source": [
                "# importing pandas as pd\r\n",
                "import pandas as pd\r\n",
                "   \r\n",
                "# Creating row index values for our data frame\r\n",
                "# We have taken time frequency to be of 12 hours interval\r\n",
                "# We are generating five index value using \"period = 5\" parameter\r\n",
                "   \r\n",
                "ind = pd.date_range('01 / 01 / 2000', periods = 5, freq ='12H')\r\n",
                "   \r\n",
                "# Creating a dataframe with 4 columns\r\n",
                "# using \"ind\" as the index for our dataframe\r\n",
                "df = pd.DataFrame({\"A\":[1, 2, 3, 4, 5], \r\n",
                "                   \"B\":[10, 20, 30, 40, 50], \r\n",
                "                   \"C\":[11, 22, 33, 44, 55], \r\n",
                "                   \"D\":[12, 24, 51, 36, 2]}, \r\n",
                "                    index = ind)\r\n",
                "  \r\n",
                "# Print the dataframe\r\n",
                "df"
            ],
            "metadata": {
                "azdata_cell_guid": "4be02a5e-ba38-4685-8b9b-022b340d1aa8"
            },
            "outputs": [],
            "execution_count": null
        },
        {
            "cell_type": "markdown",
            "source": [
                "![](https://media.geeksforgeeks.org/wp-content/uploads/1-691.png)\n",
                "\n",
                "<span style=\"color: rgb(39, 50, 57); font-family: urw-din, sans-serif; font-size: 17px; letter-spacing: 0.162px; background-color: rgb(255, 255, 255);\">Lets use the&nbsp;</span> `dataframe.shift()` <span style=\"color: rgb(39, 50, 57); font-family: urw-din, sans-serif; font-size: 17px; letter-spacing: 0.162px; background-color: rgb(255, 255, 255);\">&nbsp;function to shift the column axis by 2 periods in positive direction</span>"
            ],
            "metadata": {
                "azdata_cell_guid": "4d9786de-d56a-4ea4-8d5d-ae30378ac9d5"
            },
            "attachments": {}
        },
        {
            "cell_type": "code",
            "source": [
                "# shift column axis by two periods in positive direction\r\n",
                "df.shift(2, axis = 1)"
            ],
            "metadata": {
                "azdata_cell_guid": "c01c8d41-051f-4a2a-8a6d-c8298e320346"
            },
            "outputs": [],
            "execution_count": null
        },
        {
            "cell_type": "markdown",
            "source": [
                "Aqui, **o argumento axis = 1 informa que estamos aplicando o .shift às colunas, e não às linhas do dataframe**.\n",
                "\n",
                "  \n",
                "\n",
                "\\- Quando o valor é positivo e igual a x, cada coluna se desloca **x colunas para a direita**. Assim, como o valor é 2, cada coluna se desloca 2 unidades para a direita, e a coluna de índice 1 passa a ser a coluna 3, a coluna 2 passa a ser a 4, e assim sucessivamente.\n",
                "\n",
                "\\- Analogamente, **caso o argumento fosse negativo, cada coluna se deslocaria para a esquerda**. Se o argumento fosse -2, a coluna 3 passaria a ser a 1, a 4 passaria a ser a 2, e assim sucessivamente.\n",
                "\n",
                "  \n",
                "\n",
                "Para os argumentos 2, e axis=1 (deslocamento nas colunas), a saída é:\n",
                "\n",
                "![](https://media.geeksforgeeks.org/wp-content/uploads/1-691.png)"
            ],
            "metadata": {
                "azdata_cell_guid": "1287288e-3023-41ef-8ee5-441e19abb2d0"
            },
            "attachments": {}
        }
    ]
}