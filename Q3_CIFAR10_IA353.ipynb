{
  "nbformat": 4,
  "nbformat_minor": 0,
  "metadata": {
    "accelerator": "GPU",
    "colab": {
      "name": "Q3_CIFAR10_IA353.ipynb",
      "provenance": [],
      "collapsed_sections": []
    },
    "kernelspec": {
      "display_name": "Python 3",
      "name": "python3"
    },
    "language_info": {
      "name": "python"
    }
  },
  "cells": [
    {
      "cell_type": "code",
      "metadata": {
        "colab": {
          "base_uri": "https://localhost:8080/",
          "height": 366
        },
        "id": "xcW15RG2yq1S",
        "outputId": "f78968ba-c5d8-42f2-d597-e9b964849654"
      },
      "source": [
        "import tensorflow as tf\n",
        "import os\n",
        "cifar = tf.keras.datasets.cifar10\n",
        "(x_train, y_train),(x_test, y_test) = cifar.load_data()\n",
        "x_train, x_test = x_train / 255.0, x_test / 255.0\n",
        "model = tf.keras.models.Sequential([\n",
        "tf.keras.layers.Flatten(),\n",
        "tf.keras.layers.Dense(512, activation=tf.nn.relu),\n",
        "tf.keras.layers.Dropout(0.5),\n",
        "tf.keras.layers.Dense(10, activation=tf.nn.softmax)\n",
        "])\n",
        "model.compile(optimizer='sgd',\n",
        "loss='sparse_categorical_crossentropy',\n",
        "metrics=['accuracy'])\n",
        "model.fit(x_train, y_train, epochs=7)\n",
        "model.evaluate(x_test, y_test)\n",
        "model_json = model.to_json()\n",
        "json_file = open(\"model_MLP.json\", \"w\")\n",
        "json_file.write(model_json)\n",
        "json_file.close()\n",
        "model.save_weights(\"model_MLP.h5\")\n",
        "print(\"Model saved to disk\")\n",
        "os.getcwd()"
      ],
      "execution_count": 2,
      "outputs": [
        {
          "output_type": "stream",
          "text": [
            "Downloading data from https://www.cs.toronto.edu/~kriz/cifar-10-python.tar.gz\n",
            "170500096/170498071 [==============================] - 2s 0us/step\n",
            "Epoch 1/7\n",
            "1563/1563 [==============================] - 4s 2ms/step - loss: 2.0640 - accuracy: 0.2490\n",
            "Epoch 2/7\n",
            "1563/1563 [==============================] - 3s 2ms/step - loss: 1.8131 - accuracy: 0.3542\n",
            "Epoch 3/7\n",
            "1563/1563 [==============================] - 3s 2ms/step - loss: 1.7375 - accuracy: 0.3856\n",
            "Epoch 4/7\n",
            "1563/1563 [==============================] - 3s 2ms/step - loss: 1.6983 - accuracy: 0.4018\n",
            "Epoch 5/7\n",
            "1563/1563 [==============================] - 3s 2ms/step - loss: 1.6495 - accuracy: 0.4203\n",
            "Epoch 6/7\n",
            "1563/1563 [==============================] - 3s 2ms/step - loss: 1.6329 - accuracy: 0.4237\n",
            "Epoch 7/7\n",
            "1563/1563 [==============================] - 3s 2ms/step - loss: 1.6092 - accuracy: 0.4375\n",
            "313/313 [==============================] - 1s 2ms/step - loss: 1.5484 - accuracy: 0.4586\n",
            "Model saved to disk\n"
          ],
          "name": "stdout"
        },
        {
          "output_type": "execute_result",
          "data": {
            "application/vnd.google.colaboratory.intrinsic+json": {
              "type": "string"
            },
            "text/plain": [
              "'/content'"
            ]
          },
          "metadata": {
            "tags": []
          },
          "execution_count": 2
        }
      ]
    },
    {
      "cell_type": "code",
      "metadata": {
        "id": "-fw3Btg9AzOL"
      },
      "source": [
        ""
      ],
      "execution_count": null,
      "outputs": []
    }
  ]
}