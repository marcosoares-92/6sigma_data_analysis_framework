{
 "cells": [
  {
   "cell_type": "code",
   "execution_count": null,
   "metadata": {
    "tags": [
     "CELL_1"
    ]
   },
   "outputs": [],
   "source": [
    "## Análise do Processo - Diagrama de Pareto\n",
    "\n",
    "## CÉLULA 1: Instruções de carregamento do arquivo e bibliotecas a ser importadas\n",
    "\n",
    "\"\"\"\"\n",
    "    Para executar uma CÉLULA, pressione o botão \"Run\" no topo, com a CÉLULA selecionada, ou pressione:\n",
    "    \n",
    "    Shift + Enter\n",
    "\n",
    "-Se seus dados estiverem em um arquivo xlsx utilize a CÉLULA 2\n",
    "\n",
    "-Se seus dados estiverem em um arquivo csv contendo cabeçalhos, utilize a CÉLULA 3\n",
    "\n",
    "-Se seus dados estiverem em um arquivo csv sem cabeçalhos, utilize a CÉLULA 4\n",
    "\n",
    "-Utilize apenas a CÉLULA correta\n",
    "-Substitua o texto entre aspas na variável \"caminho\" pelo endereço do arquivo em sua máquina.\n",
    "\n",
    "EXECUTE ESTA CÉLULA ANTES DE PROSSEGUIR\n",
    "\n",
    "EXECUTE APENAS UMA CÉLULA POR VEZ\n",
    "\n",
    "-Caso deseje apagar a saída de uma célula carregada, mas não deseje carregar uma nova saída, vá à aba superior, escolha o ícone\n",
    "do teclado (open the command palette/ jupyter-notebook command group) e selecione clear cell output.\n",
    "\n",
    "@author: Marco César Prado Soares, MSc.\n",
    "Especialista Lean Six Sigma Master Black Belt, Eng. Químico, MSc. Eng. Mecatrônica (instrumentação) \n",
    "Marco.Soares@br.ey.com; marcosoares.feq@gmail.com\n",
    "\"\"\"\n",
    "import pandas as pd\n",
    "import numpy as np\n",
    "import matplotlib.pyplot as plt"
   ]
  },
  {
   "cell_type": "code",
   "execution_count": null,
   "metadata": {
    "tags": [
     "CELL_2"
    ]
   },
   "outputs": [],
   "source": [
    "## CÉLULA 2: dados em arquivo xlsx\n",
    "\n",
    "caminho = \"D:\\Drive\\FM2S\\EAD\\Green Belt em Python\\Machine Learning - módulo 2 - ANN regression\\ANN.1 - Apartment price analysis\\prices_apartments.xlsx\"\n",
    "dataset = pd.read_excel(caminho)\n",
    "\n",
    "dataset\n",
    "#SIGA PARA A CÉLULA 5"
   ]
  },
  {
   "cell_type": "code",
   "execution_count": null,
   "metadata": {
    "tags": [
     "CELL_3"
    ]
   },
   "outputs": [],
   "source": [
    "## CÉLULA 3: dados em arquivo csv com cabeçalho\n",
    "\n",
    "caminho = \"D:\\Drive\\FM2S\\EAD\\Green Belt em Python\\Machine Learning - módulo 3 - ANN classification\\ANN.Class - 2 - advertising campaign\\delivery_app_data.csv\"\n",
    "dataset = pd.read_csv(caminho)\n",
    "\n",
    "dataset\n",
    "#SIGA PARA A CÉLULA 5"
   ]
  },
  {
   "cell_type": "code",
   "execution_count": null,
   "metadata": {
    "tags": [
     "CELL_4"
    ]
   },
   "outputs": [],
   "source": [
    "## CÉLULA 4: dados em arquivo csv sem cabeçalho\n",
    "\n",
    "caminho = \"D:\\Drive\\FM2S\\EAD\\Green Belt em Python\\Machine Learning - módulo 2 - ANN regression\\ANN.4 - Boston housing price\\housing_boston_data.txt\"\n",
    "dataset = pd.read_csv(caminho, delim_whitespace=True, header=None)\n",
    "\n",
    "#here, the dataset is in a textfile. In these cases, use delim_withespace = True\n",
    "#or df = pd.read_fwf('output_list.txt')\n",
    "#since data has no Head, keep header = None\n",
    "#if there is Head, eliminate ‘header’ from the arguments of the function\n",
    "\n",
    "dataset\n",
    "#SIGA PARA A CÉLULA 5"
   ]
  },
  {
   "cell_type": "code",
   "execution_count": null,
   "metadata": {
    "tags": [
     "CELL_5"
    ]
   },
   "outputs": [],
   "source": [
    "## CÉLULA 5: Eliminar linhas com entradas nulas\n",
    "\n",
    "\"\"\"\n",
    "-Utilize este CÉLULA apenas se desejar limpar as entradas nulas da sua base de dados\n",
    "\n",
    "-Esta CÉLULA eliminará todas as linhas contendo entradas nulas. Caso NÃO DESEJE ISTO, vá direto à CÉLULA 6, sem executar esta\n",
    "célula.\n",
    "\"\"\"\n",
    "\n",
    "dataset = dataset.dropna(axis=0)\n",
    "dataset\n",
    "#SIGA PARA A CÉLULA 6"
   ]
  },
  {
   "cell_type": "markdown",
   "metadata": {
    "tags": [
     "CELL_6"
    ]
   },
   "source": [
    "# CÉLULA 6: Instruções Gerais\n",
    "\n",
    "### ATENÇÃO: NÃO EXECUTE ESTA CÉLULA - Ela contém apenas texto explicativo\n",
    "\n",
    "Este notebook destina-se à análise de processos por meio do diagrama de Pareto. Esta análise tem o objetivo de destacar os efeitos/causas/problemas etc mais relevantes em um processo.\n",
    "\n",
    "Joseph Juran utilizou as observações de Vilfredo Pareto para enunciar aquilo que ficou conhecido como o princípio de Pareto: 80% dos problemas são relacionados a 20% das causas. Logicamente, trata-se de uma figura hiperbólica para destacar a importância de se determinar as causas mais importantes.\n",
    "\n",
    "\n",
    "## 1) Tabela e diagrama de Pareto\n",
    "\n",
    "- Aqui será obtida a tabela correspondente ao diagrama de Pareto: os efeitos/causas/defeitos serão organizados do maior número de ocorrências para o menor, e será calculada a porcentagem acumulada à medida que se lê a tabela de cima para baixo.\n",
    "- O diagrama consiste num gráfico combinado: as barras verticais mostram a intensidade/contagem dos efeitos, enquanto que os pontos conectados por linhas retas representam as porcentagens acumuladas. O sistema permite limitar até um máximo de 4 efeitos mais importantes, agrupando todos os demais em uma única barra. Este recurso facilita a visualização e interpretação do gráfico.\n",
    "\n",
    "Siga para as CÉLULAS 7 a 9.\n",
    "----------------------------------------"
   ]
  },
  {
   "cell_type": "code",
   "execution_count": null,
   "metadata": {
    "tags": [
     "CELL_7"
    ]
   },
   "outputs": [],
   "source": [
    "## CÉLULA 7: Função para construção simultânea da tabela e do diagrama de Pareto\n",
    "\n",
    "#Execute esta CÉLULA para carregar a função\n",
    "\n",
    "def pareto_chart_full(x, y, show_max_4 = True, title=None):\n",
    "#vamos obter os dados para construcao do diagrama de Pareto\n",
    "    import pandas as pd\n",
    "    import matplotlib.pyplot as plt\n",
    "    \n",
    "    #Entradas: dataframe, valores do eixo x, eixo y, titulo\n",
    "    x1 = x\n",
    "    y1 = y\n",
    "    xnew = []\n",
    "    ynew = []\n",
    "    percent = []\n",
    "    percentcum = []\n",
    "    #listas vazias para agrupar os novos valores\n",
    "    \n",
    "    y1 = y1.sort_values(ascending=False)\n",
    "    #reorganiza em ordem decrescente, mas sem mudar os indices\n",
    "    #isso porque os indices nao foram reinicializados\n",
    "    \n",
    "    #Basta achar o indice de x1 que corresponde ao indice de y1\n",
    "    #vamos encontrar os x correspondentes (os motivos)\n",
    "    i = 0\n",
    "    j = 0\n",
    "    tamanho = len(y1) #tamanho da entrada\n",
    "\n",
    "    while (i < tamanho):\n",
    "        j = 0 #reinicia a busca no auxiliar\n",
    "        \n",
    "        while (j < tamanho):\n",
    "            if (x1.index[j] == y1.index[i]):\n",
    "                xnew.append(x1[j])\n",
    "                ynew.append(y1[j])\n",
    "                #quando na auxiliar encontra o indice, copia no label, na linha correspondente ao y\n",
    "                #os labels de y1 ainda estao na ordem antiga, a mesma de x\n",
    "                percent.append(0) # gravar valor numerico na lista\n",
    "                percentcum.append(0) #gravar valor numerico na lista\n",
    "                #todas as listas possuem mesma dimensao e podem formar o dataframe novo\n",
    "            j = j + 1 #percorre toda a base auxiliar\n",
    "        \n",
    "        i = i + 1\n",
    "    \n",
    "    d = {'Causas': xnew, 'Contagem': ynew, 'Porcentagem': percent, 'Porcentagem acumulada': percentcum}\n",
    "    #dicionario com as quatro listas que formam a tabela do Pareto\n",
    "    df = pd.DataFrame(data = d)\n",
    "    #cria o dataframe organizado\n",
    "    \n",
    "    #vamos reiniciar o indice\n",
    "    df = df.reset_index(drop=True)\n",
    "    \n",
    "    #construir as colunas que faltam\n",
    "    somatotal = df['Contagem'].sum() # soma o total de ocorrencias do Pareto\n",
    "    df['Porcentagem'] = (df['Contagem'])/(somatotal)*100\n",
    "    \n",
    "    df.loc[0,'Porcentagem acumulada'] = df.loc[0,'Porcentagem']\n",
    "    #primeiro valor definido, devemos comecar o loop do 1, nao do zero\n",
    "    i = 1\n",
    "    \n",
    "    while (i < tamanho):\n",
    "        df.loc[i,'Porcentagem acumulada'] = df.loc[(i-1),'Porcentagem acumulada'] + df.loc[i,'Porcentagem']\n",
    "        i = i + 1\n",
    "   \n",
    "    x = df['Causas']\n",
    "    y = df['Contagem']\n",
    "    cumsum = df['Porcentagem acumulada']\n",
    "    \n",
    "    index_max = len(x) #quantidade de dados\n",
    "    \n",
    "    if (show_max_4 == True) and (index_max > 4):\n",
    "        #apenas se tiver mais que 5 entradas\n",
    "        \n",
    "        x_aux = []\n",
    "        y_aux = []\n",
    "        cumsum_aux = []\n",
    "        i = 0\n",
    "        #vamos salvar os 5 primeiros nas listas auxiliares\n",
    "        #5 primeiros: indices de 0 a 4\n",
    "        \n",
    "        while(i<5):\n",
    "           x_aux.append(x[i])\n",
    "           y_aux.append(y[i])\n",
    "           cumsum_aux.append(cumsum[i])\n",
    "           i = i + 1\n",
    "    \n",
    "        #Note que ja foi criado o quinto elemento nas listas\n",
    "        #o indice esta em i = 4\n",
    "        #o nome da variavel X esta com o do 5o elemento, vamos corrigir:\n",
    "        x_aux[4] = \"Others\" #label\n",
    "        #o elemento tera a soma igual a 100%, ja que ele soma todas as outras probabilidades\n",
    "        cumsum_aux[4] = 100\n",
    "        while (i < index_max): #so pode chegar ao valor -1\n",
    "            \n",
    "            #ATENÇÃO: Somar x vai concatenar strings, criando uma string gigante!\n",
    "            y_aux[4] = y_aux[4] + y[i]\n",
    "            i = i + 1\n",
    "        \n",
    "        #trocar as listas originais pelas novas:\n",
    "        x = x_aux\n",
    "        y = y_aux\n",
    "        cumsum = cumsum_aux\n",
    "    \n",
    "    fig, ax1 = plt.subplots()\n",
    "    ax1.bar(x, y, color='blue', label = \"Causes\")\n",
    "    ax1.set_xlabel(\"Causes\")\n",
    "    ax1.set_ylabel(\"Count\", color='blue')\n",
    "    ax1.grid(False) #mude para False, caso não deseje ver as linhas de grade\n",
    "    \n",
    "    ax2 = ax1.twinx()\n",
    "    ax2.plot(x, cumsum, '-ro', color = 'red', label = \"Cumulative\\n Percet (%)\")\n",
    "    ax2.tick_params('y', color='red')\n",
    "    ax2.set_ylabel(\"Cumulative Percent (%)\", color='red')\n",
    "    ax2.legend()\n",
    "    ax2.grid(True) #mude para False, caso não deseje ver as linhas de grade\n",
    "    \n",
    "    fig.tight_layout()\n",
    "\n",
    "    if title:\n",
    "        plt.title(title)\n",
    "    \n",
    "    plt.show()\n",
    "    \n",
    "    return df"
   ]
  },
  {
   "cell_type": "markdown",
   "metadata": {
    "tags": [
     "CELL_8"
    ]
   },
   "source": [
    "# CÉLULA 8: Função para construção a tabela e diagrama de Pareto\n",
    "\n",
    "### ATENÇÃO: NÃO EXECUTE ESTA CÉLULA - Ela contém apenas texto explicativo\n",
    "\n",
    "Para executar esta função, basta fornecer:\n",
    "\n",
    "    x: identificação das causas\n",
    "    y: valor avaliado\n",
    "\n",
    "- Se show_max_4 = True, o Pareto mostrará apenas as 4 causas mais comuns, e agrupará as demais em \"Outras\"\n",
    "\n",
    "Isso tornará seu gráfico mais organizado. Caso DESEJE VER TODAS as causas, mude para show_max_4 = False\n",
    "\n",
    "Não se esqueça que essa função gera um gráfico e um dataframe df (tabela de Pareto)\n",
    "\n",
    "Você deve, então, declarar o dataframe que receberá a tabela:\n",
    "    \n",
    "    tab_pareto = pareto_chart_full(x, y, show_max_4 = True, title=None)"
   ]
  },
  {
   "cell_type": "code",
   "execution_count": null,
   "metadata": {
    "tags": [
     "CELL_9"
    ]
   },
   "outputs": [],
   "source": [
    "## CÉLULA 9: ANÁLISE DE PARETO PARA SEUS DADOS\n",
    "\n",
    "#DEFINA A VARIAVEL X. Basta substituir o valor entre aspas pelo nome da coluna onde está X:\n",
    "#X representa o \"nome\" dos efeitos\n",
    "x = dataset['X']\n",
    "\n",
    "#DEFINA A VARIAVEL y. Basta substituir o valor entre aspas pelo nome da coluna onde está Y:\n",
    "#Y representa a contagem ou intensidade dos efeitos\n",
    "y = dataset['Y']\n",
    "\n",
    "\n",
    "tab_pareto = pareto_chart_full(x = x, y = y, show_max_4 = True, title=None)\n",
    "\n",
    "#Caso queira mostrar todos os fatores, modifique show_max_4 = True para show_max_4 = False.\n",
    "#Manter em True limitará a visualização aos 4 efeitos mais importantes.\n",
    "\n",
    "\"\"\"\n",
    "Substitua os campos de acordo com as instruções dadas na CÉLULA 8. \n",
    "- O título deve ser fornecido como um texto entre aspas. Exemplo: title=\"Diagrama de Pareto\"\n",
    "\n",
    "\"\"\"\n",
    "\n",
    "tab_pareto\n",
    "\n",
    "\"\"\"VOCÊ DESEJA EXPORTAR OS DADOS?\n",
    "Caso deseje exportar os dados, copie a seguinte linha para o espaço não-vermelho após as aspas. Substitua o endereço pela\n",
    "pasta onde você deseja salvar seu arquivo. Substitua pareto pelo nome que deseja para seu arquivo. Mantenha\n",
    "a extensão csv\n",
    "\n",
    "tab_pareto.to_csv(r\"D:\\Drive\\FM2S\\EAD\\Green Belt em Python\\Machine Learning - módulo 3 - ANN classification\\ANN.Class - 1 - user satisfaction\\pareto.csv\", index = False)\n",
    "\n",
    "\"\"\""
   ]
  }
 ],
 "metadata": {
  "celltoolbar": "Tags",
  "kernelspec": {
   "display_name": "Python 3",
   "language": "python",
   "name": "python3"
  },
  "language_info": {
   "codemirror_mode": {
    "name": "ipython",
    "version": 3
   },
   "file_extension": ".py",
   "mimetype": "text/x-python",
   "name": "python",
   "nbconvert_exporter": "python",
   "pygments_lexer": "ipython3",
   "version": "3.8.5"
  }
 },
 "nbformat": 4,
 "nbformat_minor": 4
}
